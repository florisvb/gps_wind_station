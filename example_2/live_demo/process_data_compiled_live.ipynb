{
 "cells": [
  {
   "cell_type": "code",
   "execution_count": 1,
   "metadata": {},
   "outputs": [],
   "source": [
    "import numpy as np\n",
    "import os\n",
    "import matplotlib.pyplot as plt\n",
    "import pandas as pd"
   ]
  },
  {
   "cell_type": "code",
   "execution_count": 2,
   "metadata": {},
   "outputs": [],
   "source": [
    "import load_windgps_data_to_pandas"
   ]
  },
  {
   "cell_type": "code",
   "execution_count": 3,
   "metadata": {},
   "outputs": [],
   "source": [
    "import process_windgps_functions"
   ]
  },
  {
   "cell_type": "code",
   "execution_count": 4,
   "metadata": {},
   "outputs": [],
   "source": [
    "# where your binary data files are\n",
    "data_directory = 'large_sample_data'\n",
    "\n",
    "# data column names and corresponding types based on the struct_t in the teensy firmware\n",
    "# see: https://numpy.org/devdocs/user/basics.types.html\n",
    "data_type = [('millis', '<u4'),  # uint32_t time;\n",
    "             ('lat', np.single), # uint32_t test1;\n",
    "             ('lon', np.single),\n",
    "             ('gps_time', '<u4'),\n",
    "             ('gps_date', '<u4'),\n",
    "             ('wind', 'S128')] # char test2[24];\n",
    "\n",
    "# how many fill bytes are there? from teensy code.\n",
    "# would be nice if this could be determined automatically...\n",
    "# probably can be done given size of the file, size of the header, size of the buffer from the datatype\n",
    "number_fill_bytes = 90  # guess\n",
    "number_data_records = 5 # guess"
   ]
  },
  {
   "cell_type": "code",
   "execution_count": 5,
   "metadata": {},
   "outputs": [],
   "source": [
    "filenames = load_windgps_data_to_pandas.get_filenames(data_directory, '.bin')"
   ]
  },
  {
   "cell_type": "code",
   "execution_count": 6,
   "metadata": {},
   "outputs": [],
   "source": [
    "discover = load_windgps_data_to_pandas.discover_number_of_fill_bytes_and_data_records\n",
    "number_data_records, number_fill_bytes = discover( filenames[0], data_type, \n",
    "                                                   number_data_records, number_fill_bytes,\n",
    "                                                   verbose = False)"
   ]
  },
  {
   "cell_type": "code",
   "execution_count": 7,
   "metadata": {},
   "outputs": [],
   "source": [
    "df = load_windgps_data_to_pandas.load_data_from_directory(data_directory, data_type, \n",
    "                                                                 number_data_records, number_fill_bytes)"
   ]
  },
  {
   "cell_type": "code",
   "execution_count": 8,
   "metadata": {},
   "outputs": [
    {
     "data": {
      "text/plain": [
       "[<matplotlib.lines.Line2D at 0x7f66f0faa0d0>]"
      ]
     },
     "execution_count": 8,
     "metadata": {},
     "output_type": "execute_result"
    },
    {
     "data": {
      "image/png": "[encoded data removed]",
      "text/plain": [
       "<Figure size 432x288 with 1 Axes>"
      ]
     },
     "metadata": {
      "needs_background": "light"
     },
     "output_type": "display_data"
    }
   ],
   "source": [
    "plt.plot(df.millis)"
   ]
  },
  {
   "cell_type": "code",
   "execution_count": 12,
   "metadata": {},
   "outputs": [],
   "source": [
    "df2 = process_windgps_functions.fix_millis_time(df)"
   ]
  },
  {
   "cell_type": "code",
   "execution_count": 13,
   "metadata": {},
   "outputs": [
    {
     "data": {
      "text/plain": [
       "[<matplotlib.lines.Line2D at 0x7f66be7d87c0>]"
      ]
     },
     "execution_count": 13,
     "metadata": {},
     "output_type": "execute_result"
    },
    {
     "data": {
      "image/png": "[encoded data removed]",
      "text/plain": [
       "<Figure size 432x288 with 1 Axes>"
      ]
     },
     "metadata": {
      "needs_background": "light"
     },
     "output_type": "display_data"
    }
   ],
   "source": [
    "plt.plot(df2.millis)"
   ]
  },
  {
   "cell_type": "code",
   "execution_count": null,
   "metadata": {},
   "outputs": [],
   "source": []
  }
 ],
 "metadata": {
  "kernelspec": {
   "display_name": "TEST38",
   "language": "python",
   "name": "test38"
  },
  "language_info": {
   "codemirror_mode": {
    "name": "ipython",
    "version": 3
   },
   "file_extension": ".py",
   "mimetype": "text/x-python",
   "name": "python",
   "nbconvert_exporter": "python",
   "pygments_lexer": "ipython3",
   "version": "3.8.3"
  }
 },
 "nbformat": 4,
 "nbformat_minor": 2
}
