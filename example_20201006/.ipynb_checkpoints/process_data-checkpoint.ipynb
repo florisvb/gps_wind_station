{
 "cells": [
  {
   "cell_type": "code",
   "execution_count": 1,
   "metadata": {},
   "outputs": [],
   "source": [
    "import numpy as np\n",
    "import os\n",
    "import matplotlib.pyplot as plt\n",
    "import pandas as pd"
   ]
  },
  {
   "cell_type": "code",
   "execution_count": 2,
   "metadata": {},
   "outputs": [],
   "source": [
    "import load_windgps_data_to_pandas"
   ]
  },
  {
   "cell_type": "code",
   "execution_count": 4,
   "metadata": {},
   "outputs": [],
   "source": [
    "# where your binary data files are\n",
    "data_directory = '0000001'\n",
    "\n",
    "# data column names and corresponding types based on the struct_t in the teensy firmware\n",
    "# see: https://numpy.org/devdocs/user/basics.types.html\n",
    "data_type = [('millis', '<u4'),  # uint32_t time;\n",
    "             ('lat', np.single), # uint32_t test1;\n",
    "             ('lon', np.single),\n",
    "             ('gps_time', '<u4'),\n",
    "             ('gps_date', '<u4'),\n",
    "             ('wind', 'S128')] # char test2[24];\n",
    "\n",
    "# how many fill bytes are there? from teensy code.\n",
    "# would be nice if this could be determined automatically...\n",
    "# probably can be done given size of the file, size of the header, size of the buffer from the datatype\n",
    "number_fill_bytes = 90  # guess\n",
    "number_data_records = 5 # guess"
   ]
  },
  {
   "cell_type": "code",
   "execution_count": 5,
   "metadata": {},
   "outputs": [],
   "source": [
    "filenames = load_windgps_data_to_pandas.get_filenames(data_directory, '.bin')"
   ]
  },
  {
   "cell_type": "code",
   "execution_count": 6,
   "metadata": {},
   "outputs": [
    {
     "data": {
      "text/plain": [
       "['0000001/0000001.bin',\n",
       " '0000001/0000002.bin',\n",
       " '0000001/0000003.bin',\n",
       " '0000001/0000004.bin',\n",
       " '0000001/0000005.bin',\n",
       " '0000001/0000006.bin']"
      ]
     },
     "execution_count": 6,
     "metadata": {},
     "output_type": "execute_result"
    }
   ],
   "source": [
    "filenames"
   ]
  },
  {
   "cell_type": "code",
   "execution_count": 7,
   "metadata": {},
   "outputs": [],
   "source": [
    "discover = load_windgps_data_to_pandas.discover_number_of_fill_bytes_and_data_records\n",
    "number_data_records, number_fill_bytes = discover( filenames[0], data_type, \n",
    "                                                   number_data_records, number_fill_bytes,\n",
    "                                                   verbose = False)"
   ]
  },
  {
   "cell_type": "code",
   "execution_count": 8,
   "metadata": {},
   "outputs": [
    {
     "name": "stdout",
     "output_type": "stream",
     "text": [
      "110 100\n"
     ]
    }
   ],
   "source": [
    "print(number_data_records, number_fill_bytes)"
   ]
  },
  {
   "cell_type": "code",
   "execution_count": null,
   "metadata": {},
   "outputs": [],
   "source": []
  },
  {
   "cell_type": "code",
   "execution_count": 9,
   "metadata": {},
   "outputs": [],
   "source": [
    "df = load_windgps_data_to_pandas.load_data_from_directory(data_directory, data_type, \n",
    "                                                                 number_data_records, number_fill_bytes)"
   ]
  },
  {
   "cell_type": "code",
   "execution_count": 10,
   "metadata": {},
   "outputs": [
    {
     "data": {
      "text/html": [
       "<div>\n",
       "<style scoped>\n",
       "    .dataframe tbody tr th:only-of-type {\n",
       "        vertical-align: middle;\n",
       "    }\n",
       "\n",
       "    .dataframe tbody tr th {\n",
       "        vertical-align: top;\n",
       "    }\n",
       "\n",
       "    .dataframe thead th {\n",
       "        text-align: right;\n",
       "    }\n",
       "</style>\n",
       "<table border=\"1\" class=\"dataframe\">\n",
       "  <thead>\n",
       "    <tr style=\"text-align: right;\">\n",
       "      <th></th>\n",
       "      <th>millis</th>\n",
       "      <th>lat</th>\n",
       "      <th>lon</th>\n",
       "      <th>gps_time</th>\n",
       "      <th>gps_date</th>\n",
       "      <th>wind</th>\n",
       "    </tr>\n",
       "  </thead>\n",
       "  <tbody>\n",
       "    <tr>\n",
       "      <th>0</th>\n",
       "      <td>776</td>\n",
       "      <td>1000.000000</td>\n",
       "      <td>1000.000000</td>\n",
       "      <td>4294967295</td>\n",
       "      <td>0</td>\n",
       "      <td>b'S2  00.152 D  328 U  00.080 V -00.129 W -00....</td>\n",
       "    </tr>\n",
       "    <tr>\n",
       "      <th>1</th>\n",
       "      <td>819</td>\n",
       "      <td>1000.000000</td>\n",
       "      <td>1000.000000</td>\n",
       "      <td>4294967295</td>\n",
       "      <td>0</td>\n",
       "      <td>b'H  44.15 AD  1.0149859 AX    768 AY   -512 A...</td>\n",
       "    </tr>\n",
       "    <tr>\n",
       "      <th>2</th>\n",
       "      <td>825</td>\n",
       "      <td>1000.000000</td>\n",
       "      <td>1000.000000</td>\n",
       "      <td>4294967295</td>\n",
       "      <td>0</td>\n",
       "      <td>b'\\nS2  00.071 D  341 U  00.023 V -00.067 W  0...</td>\n",
       "    </tr>\n",
       "    <tr>\n",
       "      <th>3</th>\n",
       "      <td>925</td>\n",
       "      <td>1000.000000</td>\n",
       "      <td>1000.000000</td>\n",
       "      <td>4294967295</td>\n",
       "      <td>0</td>\n",
       "      <td>b'\\nS2  00.073 D  350 U  00.012 V -00.072 W  0...</td>\n",
       "    </tr>\n",
       "    <tr>\n",
       "      <th>4</th>\n",
       "      <td>1025</td>\n",
       "      <td>1000.000000</td>\n",
       "      <td>1000.000000</td>\n",
       "      <td>4294967295</td>\n",
       "      <td>0</td>\n",
       "      <td>b'\\nS2  00.050 D  001 U -00.001 V -00.050 W  0...</td>\n",
       "    </tr>\n",
       "    <tr>\n",
       "      <th>...</th>\n",
       "      <td>...</td>\n",
       "      <td>...</td>\n",
       "      <td>...</td>\n",
       "      <td>...</td>\n",
       "      <td>...</td>\n",
       "      <td>...</td>\n",
       "    </tr>\n",
       "    <tr>\n",
       "      <th>9565</th>\n",
       "      <td>957099</td>\n",
       "      <td>39.512867</td>\n",
       "      <td>-119.840202</td>\n",
       "      <td>21545000</td>\n",
       "      <td>61020</td>\n",
       "      <td>b'\\nS2  00.344 D  266 U  00.343 V  00.023 W  0...</td>\n",
       "    </tr>\n",
       "    <tr>\n",
       "      <th>9566</th>\n",
       "      <td>957199</td>\n",
       "      <td>39.512867</td>\n",
       "      <td>-119.840202</td>\n",
       "      <td>21545000</td>\n",
       "      <td>61020</td>\n",
       "      <td>b'\\nS2  00.307 D  278 U  00.304 V -00.043 W  0...</td>\n",
       "    </tr>\n",
       "    <tr>\n",
       "      <th>9567</th>\n",
       "      <td>957299</td>\n",
       "      <td>39.512867</td>\n",
       "      <td>-119.840202</td>\n",
       "      <td>21545000</td>\n",
       "      <td>61020</td>\n",
       "      <td>b'\\nS2  00.265 D  281 U  00.260 V -00.052 W  0...</td>\n",
       "    </tr>\n",
       "    <tr>\n",
       "      <th>9568</th>\n",
       "      <td>957399</td>\n",
       "      <td>39.512867</td>\n",
       "      <td>-119.840202</td>\n",
       "      <td>21545000</td>\n",
       "      <td>61020</td>\n",
       "      <td>b'\\nS2  00.239 D  285 U  00.231 V -00.062 W -0...</td>\n",
       "    </tr>\n",
       "    <tr>\n",
       "      <th>9569</th>\n",
       "      <td>957499</td>\n",
       "      <td>39.512867</td>\n",
       "      <td>-119.840202</td>\n",
       "      <td>21545000</td>\n",
       "      <td>61020</td>\n",
       "      <td>b'\\nS2  00.170 D  298 U  00.151 V -00.079 W -0...</td>\n",
       "    </tr>\n",
       "  </tbody>\n",
       "</table>\n",
       "<p>9570 rows × 6 columns</p>\n",
       "</div>"
      ],
      "text/plain": [
       "      millis          lat          lon    gps_time  gps_date  \\\n",
       "0        776  1000.000000  1000.000000  4294967295         0   \n",
       "1        819  1000.000000  1000.000000  4294967295         0   \n",
       "2        825  1000.000000  1000.000000  4294967295         0   \n",
       "3        925  1000.000000  1000.000000  4294967295         0   \n",
       "4       1025  1000.000000  1000.000000  4294967295         0   \n",
       "...      ...          ...          ...         ...       ...   \n",
       "9565  957099    39.512867  -119.840202    21545000     61020   \n",
       "9566  957199    39.512867  -119.840202    21545000     61020   \n",
       "9567  957299    39.512867  -119.840202    21545000     61020   \n",
       "9568  957399    39.512867  -119.840202    21545000     61020   \n",
       "9569  957499    39.512867  -119.840202    21545000     61020   \n",
       "\n",
       "                                                   wind  \n",
       "0     b'S2  00.152 D  328 U  00.080 V -00.129 W -00....  \n",
       "1     b'H  44.15 AD  1.0149859 AX    768 AY   -512 A...  \n",
       "2     b'\\nS2  00.071 D  341 U  00.023 V -00.067 W  0...  \n",
       "3     b'\\nS2  00.073 D  350 U  00.012 V -00.072 W  0...  \n",
       "4     b'\\nS2  00.050 D  001 U -00.001 V -00.050 W  0...  \n",
       "...                                                 ...  \n",
       "9565  b'\\nS2  00.344 D  266 U  00.343 V  00.023 W  0...  \n",
       "9566  b'\\nS2  00.307 D  278 U  00.304 V -00.043 W  0...  \n",
       "9567  b'\\nS2  00.265 D  281 U  00.260 V -00.052 W  0...  \n",
       "9568  b'\\nS2  00.239 D  285 U  00.231 V -00.062 W -0...  \n",
       "9569  b'\\nS2  00.170 D  298 U  00.151 V -00.079 W -0...  \n",
       "\n",
       "[9570 rows x 6 columns]"
      ]
     },
     "execution_count": 10,
     "metadata": {},
     "output_type": "execute_result"
    }
   ],
   "source": [
    "df"
   ]
  },
  {
   "cell_type": "code",
   "execution_count": 12,
   "metadata": {},
   "outputs": [
    {
     "data": {
      "text/plain": [
       "[<matplotlib.lines.Line2D at 0x7f4566fec2e0>]"
      ]
     },
     "execution_count": 12,
     "metadata": {},
     "output_type": "execute_result"
    },
    {
     "data": {
      "image/png": "[encoded data removed]",
      "text/plain": [
       "<Figure size 432x288 with 1 Axes>"
      ]
     },
     "metadata": {
      "needs_background": "light"
     },
     "output_type": "display_data"
    }
   ],
   "source": [
    "plt.plot(df.millis)"
   ]
  },
  {
   "cell_type": "code",
   "execution_count": 15,
   "metadata": {},
   "outputs": [
    {
     "data": {
      "text/plain": [
       "[<matplotlib.lines.Line2D at 0x7f45cc9c6220>]"
      ]
     },
     "execution_count": 15,
     "metadata": {},
     "output_type": "execute_result"
    },
    {
     "data": {
      "image/png": "[encoded data removed]",
      "text/plain": [
       "<Figure size 432x288 with 1 Axes>"
      ]
     },
     "metadata": {
      "needs_background": "light"
     },
     "output_type": "display_data"
    }
   ],
   "source": [
    "plt.plot(df.gps_time[100:])"
   ]
  },
  {
   "cell_type": "code",
   "execution_count": 16,
   "metadata": {},
   "outputs": [
    {
     "data": {
      "text/plain": [
       "[<matplotlib.lines.Line2D at 0x7f45cc95fee0>]"
      ]
     },
     "execution_count": 16,
     "metadata": {},
     "output_type": "execute_result"
    },
    {
     "data": {
      "image/png": "[encoded data removed]",
      "text/plain": [
       "<Figure size 432x288 with 1 Axes>"
      ]
     },
     "metadata": {
      "needs_background": "light"
     },
     "output_type": "display_data"
    }
   ],
   "source": [
    "plt.plot(df.gps_date)"
   ]
  },
  {
   "cell_type": "markdown",
   "metadata": {},
   "source": [
    "# To do:\n",
    "* fix millis errors\n",
    "* fix gps date errors\n",
    "* fix gps time errors\n",
    "* parse GPS date and time to get year, month, day, hour, minute, second\n",
    "* convert GPS time into \"epoch\" time\n",
    "* parse wind data string"
   ]
  },
  {
   "cell_type": "markdown",
   "metadata": {},
   "source": [
    "# Fix millis (teensy time)"
   ]
  },
  {
   "cell_type": "code",
   "execution_count": 18,
   "metadata": {},
   "outputs": [
    {
     "data": {
      "text/plain": [
       "[<matplotlib.lines.Line2D at 0x7f45cc938b80>]"
      ]
     },
     "execution_count": 18,
     "metadata": {},
     "output_type": "execute_result"
    },
    {
     "data": {
      "image/png": "[encoded data removed]",
      "text/plain": [
       "<Figure size 432x288 with 1 Axes>"
      ]
     },
     "metadata": {
      "needs_background": "light"
     },
     "output_type": "display_data"
    }
   ],
   "source": [
    "plt.plot(df.millis)"
   ]
  },
  {
   "cell_type": "code",
   "execution_count": 19,
   "metadata": {},
   "outputs": [
    {
     "data": {
      "text/plain": [
       "(array([   0,    1,    2, ..., 9567, 9568, 9569]),)"
      ]
     },
     "execution_count": 19,
     "metadata": {},
     "output_type": "execute_result"
    }
   ],
   "source": [
    "np.where(df.millis<4e7)"
   ]
  },
  {
   "cell_type": "code",
   "execution_count": 20,
   "metadata": {},
   "outputs": [
    {
     "data": {
      "text/plain": [
       "[<matplotlib.lines.Line2D at 0x7f45cc943430>]"
      ]
     },
     "execution_count": 20,
     "metadata": {},
     "output_type": "execute_result"
    },
    {
     "data": {
      "image/png": "[encoded data removed]",
      "text/plain": [
       "<Figure size 432x288 with 1 Axes>"
      ]
     },
     "metadata": {
      "needs_background": "light"
     },
     "output_type": "display_data"
    }
   ],
   "source": [
    "plt.plot(df[518316:518336].millis)"
   ]
  },
  {
   "cell_type": "code",
   "execution_count": 21,
   "metadata": {},
   "outputs": [
    {
     "data": {
      "text/plain": [
       "array([], dtype=uint32)"
      ]
     },
     "execution_count": 21,
     "metadata": {},
     "output_type": "execute_result"
    }
   ],
   "source": [
    "np.diff(df[518316:518336].millis)"
   ]
  },
  {
   "cell_type": "code",
   "execution_count": 22,
   "metadata": {},
   "outputs": [],
   "source": [
    "# weird.. diff should give neg and pos value"
   ]
  },
  {
   "cell_type": "code",
   "execution_count": 23,
   "metadata": {},
   "outputs": [
    {
     "data": {
      "text/plain": [
       "array([ 0,  0,  0, -2,  2,  0,  0,  0])"
      ]
     },
     "execution_count": 23,
     "metadata": {},
     "output_type": "execute_result"
    }
   ],
   "source": [
    "np.diff( np.array([2,2,2,2,0,2,2,2,2])  )"
   ]
  },
  {
   "cell_type": "code",
   "execution_count": 24,
   "metadata": {},
   "outputs": [],
   "source": [
    "# note types"
   ]
  },
  {
   "cell_type": "code",
   "execution_count": 25,
   "metadata": {},
   "outputs": [
    {
     "data": {
      "text/plain": [
       "array([         0,          0,          0, 4294967294,          2,\n",
       "                0,          0,          0], dtype=uint32)"
      ]
     },
     "execution_count": 25,
     "metadata": {},
     "output_type": "execute_result"
    }
   ],
   "source": [
    "np.diff( np.array([2,2,2,2,0,2,2,2,2]).astype(np.uint32)   )"
   ]
  },
  {
   "cell_type": "code",
   "execution_count": 26,
   "metadata": {},
   "outputs": [],
   "source": [
    "# change type, then diff"
   ]
  },
  {
   "cell_type": "code",
   "execution_count": 27,
   "metadata": {},
   "outputs": [
    {
     "data": {
      "text/plain": [
       "array([], dtype=int64)"
      ]
     },
     "execution_count": 27,
     "metadata": {},
     "output_type": "execute_result"
    }
   ],
   "source": [
    "np.diff(df[518316:518336].millis.astype(int))"
   ]
  },
  {
   "cell_type": "code",
   "execution_count": 28,
   "metadata": {},
   "outputs": [
    {
     "data": {
      "text/plain": [
       "(array([], dtype=int64),)"
      ]
     },
     "execution_count": 28,
     "metadata": {},
     "output_type": "execute_result"
    }
   ],
   "source": [
    "np.where(  np.diff(df[518316:518336].millis.astype(int))<0 )"
   ]
  },
  {
   "cell_type": "code",
   "execution_count": 161,
   "metadata": {},
   "outputs": [
    {
     "data": {
      "text/plain": [
       "51831501"
      ]
     },
     "execution_count": 161,
     "metadata": {},
     "output_type": "execute_result"
    }
   ],
   "source": [
    "df[518316:518336].millis.values[8]"
   ]
  },
  {
   "cell_type": "code",
   "execution_count": 162,
   "metadata": {},
   "outputs": [
    {
     "data": {
      "text/plain": [
       "51831601"
      ]
     },
     "execution_count": 162,
     "metadata": {},
     "output_type": "execute_result"
    }
   ],
   "source": [
    "df[518316:518336].millis.values[9]"
   ]
  },
  {
   "cell_type": "code",
   "execution_count": 163,
   "metadata": {},
   "outputs": [
    {
     "data": {
      "text/plain": [
       "9180"
      ]
     },
     "execution_count": 163,
     "metadata": {},
     "output_type": "execute_result"
    }
   ],
   "source": [
    "df[518316:518336].millis.values[10]"
   ]
  },
  {
   "cell_type": "code",
   "execution_count": 173,
   "metadata": {},
   "outputs": [
    {
     "data": {
      "text/plain": [
       "millis                                                   9180\n",
       "lat                                                   39.5128\n",
       "lon                                                   -119.84\n",
       "gps_time                                              7422500\n",
       "gps_date                                               130820\n",
       "wind        b'\\nS2  00.166 D  301 U  00.142 V -00.087 W -0...\n",
       "Name: 518326, dtype: object"
      ]
     },
     "execution_count": 173,
     "metadata": {},
     "output_type": "execute_result"
    }
   ],
   "source": [
    "df.loc[518316+10]"
   ]
  },
  {
   "cell_type": "code",
   "execution_count": null,
   "metadata": {},
   "outputs": [],
   "source": []
  },
  {
   "cell_type": "code",
   "execution_count": null,
   "metadata": {},
   "outputs": [],
   "source": []
  },
  {
   "cell_type": "code",
   "execution_count": 169,
   "metadata": {},
   "outputs": [],
   "source": [
    "# all the places where we have an error\n",
    "idx = np.where(  np.diff(df.millis.astype(int))<0 )"
   ]
  },
  {
   "cell_type": "code",
   "execution_count": 170,
   "metadata": {},
   "outputs": [
    {
     "data": {
      "text/plain": [
       "(array([342985, 343205, 423281, 426471, 427681, 431425, 431645, 432411,\n",
       "        432631, 455405, 459145, 463105, 463325, 463875, 464095, 464315,\n",
       "        464865, 465085, 465305, 466075, 466295, 467065, 468055, 469265,\n",
       "        469815, 470255, 470805, 471245, 472015, 472235, 473225, 475205,\n",
       "        476745, 476965, 477185, 477731, 478175, 479165, 479935, 481145,\n",
       "        482135, 482685, 482905, 483125, 484115, 486095, 486865, 487085,\n",
       "        487635, 487855, 493795, 497975, 503475, 503915, 507655, 507875,\n",
       "        508425, 508645, 509635, 509855, 517775, 518325, 518545, 518765]),)"
      ]
     },
     "execution_count": 170,
     "metadata": {},
     "output_type": "execute_result"
    }
   ],
   "source": [
    "idx"
   ]
  },
  {
   "cell_type": "code",
   "execution_count": 171,
   "metadata": {},
   "outputs": [
    {
     "data": {
      "text/plain": [
       "array([342986, 343206, 423282, 426472, 427682, 431426, 431646, 432412,\n",
       "       432632, 455406, 459146, 463106, 463326, 463876, 464096, 464316,\n",
       "       464866, 465086, 465306, 466076, 466296, 467066, 468056, 469266,\n",
       "       469816, 470256, 470806, 471246, 472016, 472236, 473226, 475206,\n",
       "       476746, 476966, 477186, 477732, 478176, 479166, 479936, 481146,\n",
       "       482136, 482686, 482906, 483126, 484116, 486096, 486866, 487086,\n",
       "       487636, 487856, 493796, 497976, 503476, 503916, 507656, 507876,\n",
       "       508426, 508646, 509636, 509856, 517776, 518326, 518546, 518766])"
      ]
     },
     "execution_count": 171,
     "metadata": {},
     "output_type": "execute_result"
    }
   ],
   "source": [
    "idx[0] + 1"
   ]
  },
  {
   "cell_type": "code",
   "execution_count": 172,
   "metadata": {},
   "outputs": [
    {
     "data": {
      "text/html": [
       "<div>\n",
       "<style scoped>\n",
       "    .dataframe tbody tr th:only-of-type {\n",
       "        vertical-align: middle;\n",
       "    }\n",
       "\n",
       "    .dataframe tbody tr th {\n",
       "        vertical-align: top;\n",
       "    }\n",
       "\n",
       "    .dataframe thead th {\n",
       "        text-align: right;\n",
       "    }\n",
       "</style>\n",
       "<table border=\"1\" class=\"dataframe\">\n",
       "  <thead>\n",
       "    <tr style=\"text-align: right;\">\n",
       "      <th></th>\n",
       "      <th>millis</th>\n",
       "      <th>lat</th>\n",
       "      <th>lon</th>\n",
       "      <th>gps_time</th>\n",
       "      <th>gps_date</th>\n",
       "      <th>wind</th>\n",
       "    </tr>\n",
       "  </thead>\n",
       "  <tbody>\n",
       "    <tr>\n",
       "      <th>342986</th>\n",
       "      <td>13174</td>\n",
       "      <td>39.512966</td>\n",
       "      <td>-119.840256</td>\n",
       "      <td>2552300</td>\n",
       "      <td>130820</td>\n",
       "      <td>b'\\nS2  00.136 D  307 U  00.108 V -00.082 W -0...</td>\n",
       "    </tr>\n",
       "    <tr>\n",
       "      <th>343206</th>\n",
       "      <td>13174</td>\n",
       "      <td>39.512951</td>\n",
       "      <td>-119.840256</td>\n",
       "      <td>2554500</td>\n",
       "      <td>130820</td>\n",
       "      <td>b'\\nS2  00.109 D  306 U  00.088 V -00.064 W -0...</td>\n",
       "    </tr>\n",
       "    <tr>\n",
       "      <th>423282</th>\n",
       "      <td>11110</td>\n",
       "      <td>39.512917</td>\n",
       "      <td>-119.840263</td>\n",
       "      <td>5091300</td>\n",
       "      <td>130820</td>\n",
       "      <td>b'\\nS2  00.059 D  323 U  00.035 V -00.048 W -0...</td>\n",
       "    </tr>\n",
       "    <tr>\n",
       "      <th>426472</th>\n",
       "      <td>11110</td>\n",
       "      <td>39.512966</td>\n",
       "      <td>-119.840279</td>\n",
       "      <td>5143200</td>\n",
       "      <td>130820</td>\n",
       "      <td>b'\\nS2  00.063 D  229 U  00.048 V  00.041 W -0...</td>\n",
       "    </tr>\n",
       "    <tr>\n",
       "      <th>427682</th>\n",
       "      <td>11110</td>\n",
       "      <td>39.512978</td>\n",
       "      <td>-119.840271</td>\n",
       "      <td>5163300</td>\n",
       "      <td>130820</td>\n",
       "      <td>b'\\nS2  00.073 D  292 U  00.067 V -00.028 W -0...</td>\n",
       "    </tr>\n",
       "    <tr>\n",
       "      <th>...</th>\n",
       "      <td>...</td>\n",
       "      <td>...</td>\n",
       "      <td>...</td>\n",
       "      <td>...</td>\n",
       "      <td>...</td>\n",
       "      <td>...</td>\n",
       "    </tr>\n",
       "    <tr>\n",
       "      <th>509856</th>\n",
       "      <td>1828</td>\n",
       "      <td>39.512901</td>\n",
       "      <td>-119.840233</td>\n",
       "      <td>7331200</td>\n",
       "      <td>130820</td>\n",
       "      <td>b'\\nS2  00.034 D  290 U  00.032 V -00.012 W -0...</td>\n",
       "    </tr>\n",
       "    <tr>\n",
       "      <th>517776</th>\n",
       "      <td>8924</td>\n",
       "      <td>39.512848</td>\n",
       "      <td>-119.840225</td>\n",
       "      <td>7422500</td>\n",
       "      <td>130820</td>\n",
       "      <td>b'\\nS2  00.105 D  301 U  00.090 V -00.053 W  0...</td>\n",
       "    </tr>\n",
       "    <tr>\n",
       "      <th>518326</th>\n",
       "      <td>9180</td>\n",
       "      <td>39.512848</td>\n",
       "      <td>-119.840225</td>\n",
       "      <td>7422500</td>\n",
       "      <td>130820</td>\n",
       "      <td>b'\\nS2  00.166 D  301 U  00.142 V -00.087 W -0...</td>\n",
       "    </tr>\n",
       "    <tr>\n",
       "      <th>518546</th>\n",
       "      <td>9180</td>\n",
       "      <td>39.512848</td>\n",
       "      <td>-119.840225</td>\n",
       "      <td>7422500</td>\n",
       "      <td>130820</td>\n",
       "      <td>b'\\nS2  00.015 D  205 U  00.006 V  00.014 W  0...</td>\n",
       "    </tr>\n",
       "    <tr>\n",
       "      <th>518766</th>\n",
       "      <td>9180</td>\n",
       "      <td>39.512848</td>\n",
       "      <td>-119.840225</td>\n",
       "      <td>7422500</td>\n",
       "      <td>130820</td>\n",
       "      <td>b'\\nS2  00.072 D  296 U  00.065 V -00.032 W -0...</td>\n",
       "    </tr>\n",
       "  </tbody>\n",
       "</table>\n",
       "<p>64 rows × 6 columns</p>\n",
       "</div>"
      ],
      "text/plain": [
       "        millis        lat         lon  gps_time  gps_date  \\\n",
       "342986   13174  39.512966 -119.840256   2552300    130820   \n",
       "343206   13174  39.512951 -119.840256   2554500    130820   \n",
       "423282   11110  39.512917 -119.840263   5091300    130820   \n",
       "426472   11110  39.512966 -119.840279   5143200    130820   \n",
       "427682   11110  39.512978 -119.840271   5163300    130820   \n",
       "...        ...        ...         ...       ...       ...   \n",
       "509856    1828  39.512901 -119.840233   7331200    130820   \n",
       "517776    8924  39.512848 -119.840225   7422500    130820   \n",
       "518326    9180  39.512848 -119.840225   7422500    130820   \n",
       "518546    9180  39.512848 -119.840225   7422500    130820   \n",
       "518766    9180  39.512848 -119.840225   7422500    130820   \n",
       "\n",
       "                                                     wind  \n",
       "342986  b'\\nS2  00.136 D  307 U  00.108 V -00.082 W -0...  \n",
       "343206  b'\\nS2  00.109 D  306 U  00.088 V -00.064 W -0...  \n",
       "423282  b'\\nS2  00.059 D  323 U  00.035 V -00.048 W -0...  \n",
       "426472  b'\\nS2  00.063 D  229 U  00.048 V  00.041 W -0...  \n",
       "427682  b'\\nS2  00.073 D  292 U  00.067 V -00.028 W -0...  \n",
       "...                                                   ...  \n",
       "509856  b'\\nS2  00.034 D  290 U  00.032 V -00.012 W -0...  \n",
       "517776  b'\\nS2  00.105 D  301 U  00.090 V -00.053 W  0...  \n",
       "518326  b'\\nS2  00.166 D  301 U  00.142 V -00.087 W -0...  \n",
       "518546  b'\\nS2  00.015 D  205 U  00.006 V  00.014 W  0...  \n",
       "518766  b'\\nS2  00.072 D  296 U  00.065 V -00.032 W -0...  \n",
       "\n",
       "[64 rows x 6 columns]"
      ]
     },
     "execution_count": 172,
     "metadata": {},
     "output_type": "execute_result"
    }
   ],
   "source": [
    "df.loc[idx[0] + 1]"
   ]
  },
  {
   "cell_type": "code",
   "execution_count": 176,
   "metadata": {},
   "outputs": [],
   "source": [
    "df.loc[idx[0] + 1].millis = np.nan"
   ]
  },
  {
   "cell_type": "code",
   "execution_count": 177,
   "metadata": {},
   "outputs": [
    {
     "data": {
      "text/html": [
       "<div>\n",
       "<style scoped>\n",
       "    .dataframe tbody tr th:only-of-type {\n",
       "        vertical-align: middle;\n",
       "    }\n",
       "\n",
       "    .dataframe tbody tr th {\n",
       "        vertical-align: top;\n",
       "    }\n",
       "\n",
       "    .dataframe thead th {\n",
       "        text-align: right;\n",
       "    }\n",
       "</style>\n",
       "<table border=\"1\" class=\"dataframe\">\n",
       "  <thead>\n",
       "    <tr style=\"text-align: right;\">\n",
       "      <th></th>\n",
       "      <th>millis</th>\n",
       "      <th>lat</th>\n",
       "      <th>lon</th>\n",
       "      <th>gps_time</th>\n",
       "      <th>gps_date</th>\n",
       "      <th>wind</th>\n",
       "    </tr>\n",
       "  </thead>\n",
       "  <tbody>\n",
       "    <tr>\n",
       "      <th>342986</th>\n",
       "      <td>13174</td>\n",
       "      <td>39.512966</td>\n",
       "      <td>-119.840256</td>\n",
       "      <td>2552300</td>\n",
       "      <td>130820</td>\n",
       "      <td>b'\\nS2  00.136 D  307 U  00.108 V -00.082 W -0...</td>\n",
       "    </tr>\n",
       "    <tr>\n",
       "      <th>343206</th>\n",
       "      <td>13174</td>\n",
       "      <td>39.512951</td>\n",
       "      <td>-119.840256</td>\n",
       "      <td>2554500</td>\n",
       "      <td>130820</td>\n",
       "      <td>b'\\nS2  00.109 D  306 U  00.088 V -00.064 W -0...</td>\n",
       "    </tr>\n",
       "    <tr>\n",
       "      <th>423282</th>\n",
       "      <td>11110</td>\n",
       "      <td>39.512917</td>\n",
       "      <td>-119.840263</td>\n",
       "      <td>5091300</td>\n",
       "      <td>130820</td>\n",
       "      <td>b'\\nS2  00.059 D  323 U  00.035 V -00.048 W -0...</td>\n",
       "    </tr>\n",
       "    <tr>\n",
       "      <th>426472</th>\n",
       "      <td>11110</td>\n",
       "      <td>39.512966</td>\n",
       "      <td>-119.840279</td>\n",
       "      <td>5143200</td>\n",
       "      <td>130820</td>\n",
       "      <td>b'\\nS2  00.063 D  229 U  00.048 V  00.041 W -0...</td>\n",
       "    </tr>\n",
       "    <tr>\n",
       "      <th>427682</th>\n",
       "      <td>11110</td>\n",
       "      <td>39.512978</td>\n",
       "      <td>-119.840271</td>\n",
       "      <td>5163300</td>\n",
       "      <td>130820</td>\n",
       "      <td>b'\\nS2  00.073 D  292 U  00.067 V -00.028 W -0...</td>\n",
       "    </tr>\n",
       "    <tr>\n",
       "      <th>...</th>\n",
       "      <td>...</td>\n",
       "      <td>...</td>\n",
       "      <td>...</td>\n",
       "      <td>...</td>\n",
       "      <td>...</td>\n",
       "      <td>...</td>\n",
       "    </tr>\n",
       "    <tr>\n",
       "      <th>509856</th>\n",
       "      <td>1828</td>\n",
       "      <td>39.512901</td>\n",
       "      <td>-119.840233</td>\n",
       "      <td>7331200</td>\n",
       "      <td>130820</td>\n",
       "      <td>b'\\nS2  00.034 D  290 U  00.032 V -00.012 W -0...</td>\n",
       "    </tr>\n",
       "    <tr>\n",
       "      <th>517776</th>\n",
       "      <td>8924</td>\n",
       "      <td>39.512848</td>\n",
       "      <td>-119.840225</td>\n",
       "      <td>7422500</td>\n",
       "      <td>130820</td>\n",
       "      <td>b'\\nS2  00.105 D  301 U  00.090 V -00.053 W  0...</td>\n",
       "    </tr>\n",
       "    <tr>\n",
       "      <th>518326</th>\n",
       "      <td>9180</td>\n",
       "      <td>39.512848</td>\n",
       "      <td>-119.840225</td>\n",
       "      <td>7422500</td>\n",
       "      <td>130820</td>\n",
       "      <td>b'\\nS2  00.166 D  301 U  00.142 V -00.087 W -0...</td>\n",
       "    </tr>\n",
       "    <tr>\n",
       "      <th>518546</th>\n",
       "      <td>9180</td>\n",
       "      <td>39.512848</td>\n",
       "      <td>-119.840225</td>\n",
       "      <td>7422500</td>\n",
       "      <td>130820</td>\n",
       "      <td>b'\\nS2  00.015 D  205 U  00.006 V  00.014 W  0...</td>\n",
       "    </tr>\n",
       "    <tr>\n",
       "      <th>518766</th>\n",
       "      <td>9180</td>\n",
       "      <td>39.512848</td>\n",
       "      <td>-119.840225</td>\n",
       "      <td>7422500</td>\n",
       "      <td>130820</td>\n",
       "      <td>b'\\nS2  00.072 D  296 U  00.065 V -00.032 W -0...</td>\n",
       "    </tr>\n",
       "  </tbody>\n",
       "</table>\n",
       "<p>64 rows × 6 columns</p>\n",
       "</div>"
      ],
      "text/plain": [
       "        millis        lat         lon  gps_time  gps_date  \\\n",
       "342986   13174  39.512966 -119.840256   2552300    130820   \n",
       "343206   13174  39.512951 -119.840256   2554500    130820   \n",
       "423282   11110  39.512917 -119.840263   5091300    130820   \n",
       "426472   11110  39.512966 -119.840279   5143200    130820   \n",
       "427682   11110  39.512978 -119.840271   5163300    130820   \n",
       "...        ...        ...         ...       ...       ...   \n",
       "509856    1828  39.512901 -119.840233   7331200    130820   \n",
       "517776    8924  39.512848 -119.840225   7422500    130820   \n",
       "518326    9180  39.512848 -119.840225   7422500    130820   \n",
       "518546    9180  39.512848 -119.840225   7422500    130820   \n",
       "518766    9180  39.512848 -119.840225   7422500    130820   \n",
       "\n",
       "                                                     wind  \n",
       "342986  b'\\nS2  00.136 D  307 U  00.108 V -00.082 W -0...  \n",
       "343206  b'\\nS2  00.109 D  306 U  00.088 V -00.064 W -0...  \n",
       "423282  b'\\nS2  00.059 D  323 U  00.035 V -00.048 W -0...  \n",
       "426472  b'\\nS2  00.063 D  229 U  00.048 V  00.041 W -0...  \n",
       "427682  b'\\nS2  00.073 D  292 U  00.067 V -00.028 W -0...  \n",
       "...                                                   ...  \n",
       "509856  b'\\nS2  00.034 D  290 U  00.032 V -00.012 W -0...  \n",
       "517776  b'\\nS2  00.105 D  301 U  00.090 V -00.053 W  0...  \n",
       "518326  b'\\nS2  00.166 D  301 U  00.142 V -00.087 W -0...  \n",
       "518546  b'\\nS2  00.015 D  205 U  00.006 V  00.014 W  0...  \n",
       "518766  b'\\nS2  00.072 D  296 U  00.065 V -00.032 W -0...  \n",
       "\n",
       "[64 rows x 6 columns]"
      ]
     },
     "execution_count": 177,
     "metadata": {},
     "output_type": "execute_result"
    }
   ],
   "source": [
    "df.loc[idx[0] + 1]"
   ]
  },
  {
   "cell_type": "code",
   "execution_count": 178,
   "metadata": {},
   "outputs": [],
   "source": [
    "df.loc[idx[0] + 1, 'millis'] = np.nan"
   ]
  },
  {
   "cell_type": "code",
   "execution_count": 179,
   "metadata": {},
   "outputs": [
    {
     "data": {
      "text/html": [
       "<div>\n",
       "<style scoped>\n",
       "    .dataframe tbody tr th:only-of-type {\n",
       "        vertical-align: middle;\n",
       "    }\n",
       "\n",
       "    .dataframe tbody tr th {\n",
       "        vertical-align: top;\n",
       "    }\n",
       "\n",
       "    .dataframe thead th {\n",
       "        text-align: right;\n",
       "    }\n",
       "</style>\n",
       "<table border=\"1\" class=\"dataframe\">\n",
       "  <thead>\n",
       "    <tr style=\"text-align: right;\">\n",
       "      <th></th>\n",
       "      <th>millis</th>\n",
       "      <th>lat</th>\n",
       "      <th>lon</th>\n",
       "      <th>gps_time</th>\n",
       "      <th>gps_date</th>\n",
       "      <th>wind</th>\n",
       "    </tr>\n",
       "  </thead>\n",
       "  <tbody>\n",
       "    <tr>\n",
       "      <th>342986</th>\n",
       "      <td>NaN</td>\n",
       "      <td>39.512966</td>\n",
       "      <td>-119.840256</td>\n",
       "      <td>2552300</td>\n",
       "      <td>130820</td>\n",
       "      <td>b'\\nS2  00.136 D  307 U  00.108 V -00.082 W -0...</td>\n",
       "    </tr>\n",
       "    <tr>\n",
       "      <th>343206</th>\n",
       "      <td>NaN</td>\n",
       "      <td>39.512951</td>\n",
       "      <td>-119.840256</td>\n",
       "      <td>2554500</td>\n",
       "      <td>130820</td>\n",
       "      <td>b'\\nS2  00.109 D  306 U  00.088 V -00.064 W -0...</td>\n",
       "    </tr>\n",
       "    <tr>\n",
       "      <th>423282</th>\n",
       "      <td>NaN</td>\n",
       "      <td>39.512917</td>\n",
       "      <td>-119.840263</td>\n",
       "      <td>5091300</td>\n",
       "      <td>130820</td>\n",
       "      <td>b'\\nS2  00.059 D  323 U  00.035 V -00.048 W -0...</td>\n",
       "    </tr>\n",
       "    <tr>\n",
       "      <th>426472</th>\n",
       "      <td>NaN</td>\n",
       "      <td>39.512966</td>\n",
       "      <td>-119.840279</td>\n",
       "      <td>5143200</td>\n",
       "      <td>130820</td>\n",
       "      <td>b'\\nS2  00.063 D  229 U  00.048 V  00.041 W -0...</td>\n",
       "    </tr>\n",
       "    <tr>\n",
       "      <th>427682</th>\n",
       "      <td>NaN</td>\n",
       "      <td>39.512978</td>\n",
       "      <td>-119.840271</td>\n",
       "      <td>5163300</td>\n",
       "      <td>130820</td>\n",
       "      <td>b'\\nS2  00.073 D  292 U  00.067 V -00.028 W -0...</td>\n",
       "    </tr>\n",
       "    <tr>\n",
       "      <th>...</th>\n",
       "      <td>...</td>\n",
       "      <td>...</td>\n",
       "      <td>...</td>\n",
       "      <td>...</td>\n",
       "      <td>...</td>\n",
       "      <td>...</td>\n",
       "    </tr>\n",
       "    <tr>\n",
       "      <th>509856</th>\n",
       "      <td>NaN</td>\n",
       "      <td>39.512901</td>\n",
       "      <td>-119.840233</td>\n",
       "      <td>7331200</td>\n",
       "      <td>130820</td>\n",
       "      <td>b'\\nS2  00.034 D  290 U  00.032 V -00.012 W -0...</td>\n",
       "    </tr>\n",
       "    <tr>\n",
       "      <th>517776</th>\n",
       "      <td>NaN</td>\n",
       "      <td>39.512848</td>\n",
       "      <td>-119.840225</td>\n",
       "      <td>7422500</td>\n",
       "      <td>130820</td>\n",
       "      <td>b'\\nS2  00.105 D  301 U  00.090 V -00.053 W  0...</td>\n",
       "    </tr>\n",
       "    <tr>\n",
       "      <th>518326</th>\n",
       "      <td>NaN</td>\n",
       "      <td>39.512848</td>\n",
       "      <td>-119.840225</td>\n",
       "      <td>7422500</td>\n",
       "      <td>130820</td>\n",
       "      <td>b'\\nS2  00.166 D  301 U  00.142 V -00.087 W -0...</td>\n",
       "    </tr>\n",
       "    <tr>\n",
       "      <th>518546</th>\n",
       "      <td>NaN</td>\n",
       "      <td>39.512848</td>\n",
       "      <td>-119.840225</td>\n",
       "      <td>7422500</td>\n",
       "      <td>130820</td>\n",
       "      <td>b'\\nS2  00.015 D  205 U  00.006 V  00.014 W  0...</td>\n",
       "    </tr>\n",
       "    <tr>\n",
       "      <th>518766</th>\n",
       "      <td>NaN</td>\n",
       "      <td>39.512848</td>\n",
       "      <td>-119.840225</td>\n",
       "      <td>7422500</td>\n",
       "      <td>130820</td>\n",
       "      <td>b'\\nS2  00.072 D  296 U  00.065 V -00.032 W -0...</td>\n",
       "    </tr>\n",
       "  </tbody>\n",
       "</table>\n",
       "<p>64 rows × 6 columns</p>\n",
       "</div>"
      ],
      "text/plain": [
       "        millis        lat         lon  gps_time  gps_date  \\\n",
       "342986     NaN  39.512966 -119.840256   2552300    130820   \n",
       "343206     NaN  39.512951 -119.840256   2554500    130820   \n",
       "423282     NaN  39.512917 -119.840263   5091300    130820   \n",
       "426472     NaN  39.512966 -119.840279   5143200    130820   \n",
       "427682     NaN  39.512978 -119.840271   5163300    130820   \n",
       "...        ...        ...         ...       ...       ...   \n",
       "509856     NaN  39.512901 -119.840233   7331200    130820   \n",
       "517776     NaN  39.512848 -119.840225   7422500    130820   \n",
       "518326     NaN  39.512848 -119.840225   7422500    130820   \n",
       "518546     NaN  39.512848 -119.840225   7422500    130820   \n",
       "518766     NaN  39.512848 -119.840225   7422500    130820   \n",
       "\n",
       "                                                     wind  \n",
       "342986  b'\\nS2  00.136 D  307 U  00.108 V -00.082 W -0...  \n",
       "343206  b'\\nS2  00.109 D  306 U  00.088 V -00.064 W -0...  \n",
       "423282  b'\\nS2  00.059 D  323 U  00.035 V -00.048 W -0...  \n",
       "426472  b'\\nS2  00.063 D  229 U  00.048 V  00.041 W -0...  \n",
       "427682  b'\\nS2  00.073 D  292 U  00.067 V -00.028 W -0...  \n",
       "...                                                   ...  \n",
       "509856  b'\\nS2  00.034 D  290 U  00.032 V -00.012 W -0...  \n",
       "517776  b'\\nS2  00.105 D  301 U  00.090 V -00.053 W  0...  \n",
       "518326  b'\\nS2  00.166 D  301 U  00.142 V -00.087 W -0...  \n",
       "518546  b'\\nS2  00.015 D  205 U  00.006 V  00.014 W  0...  \n",
       "518766  b'\\nS2  00.072 D  296 U  00.065 V -00.032 W -0...  \n",
       "\n",
       "[64 rows x 6 columns]"
      ]
     },
     "execution_count": 179,
     "metadata": {},
     "output_type": "execute_result"
    }
   ],
   "source": [
    "df.loc[idx[0] + 1]"
   ]
  },
  {
   "cell_type": "code",
   "execution_count": 187,
   "metadata": {},
   "outputs": [
    {
     "data": {
      "text/plain": [
       "342986    34298194.0\n",
       "343206    34320193.5\n",
       "423282    42327568.0\n",
       "426472    42646559.0\n",
       "427682    42767556.0\n",
       "             ...    \n",
       "509856    50984725.0\n",
       "517776    51776702.5\n",
       "518326    51831701.0\n",
       "518546    51853700.0\n",
       "518766    51875700.0\n",
       "Name: millis, Length: 64, dtype: float64"
      ]
     },
     "execution_count": 187,
     "metadata": {},
     "output_type": "execute_result"
    }
   ],
   "source": [
    "df.millis.interpolate().loc[idx[0] + 1]"
   ]
  },
  {
   "cell_type": "code",
   "execution_count": 190,
   "metadata": {},
   "outputs": [
    {
     "data": {
      "text/html": [
       "<div>\n",
       "<style scoped>\n",
       "    .dataframe tbody tr th:only-of-type {\n",
       "        vertical-align: middle;\n",
       "    }\n",
       "\n",
       "    .dataframe tbody tr th {\n",
       "        vertical-align: top;\n",
       "    }\n",
       "\n",
       "    .dataframe thead th {\n",
       "        text-align: right;\n",
       "    }\n",
       "</style>\n",
       "<table border=\"1\" class=\"dataframe\">\n",
       "  <thead>\n",
       "    <tr style=\"text-align: right;\">\n",
       "      <th></th>\n",
       "      <th>millis</th>\n",
       "      <th>lat</th>\n",
       "      <th>lon</th>\n",
       "      <th>gps_time</th>\n",
       "      <th>gps_date</th>\n",
       "      <th>wind</th>\n",
       "    </tr>\n",
       "  </thead>\n",
       "  <tbody>\n",
       "    <tr>\n",
       "      <th>342986</th>\n",
       "      <td>NaN</td>\n",
       "      <td>39.512966</td>\n",
       "      <td>-119.840256</td>\n",
       "      <td>2552300</td>\n",
       "      <td>130820</td>\n",
       "      <td>b'\\nS2  00.136 D  307 U  00.108 V -00.082 W -0...</td>\n",
       "    </tr>\n",
       "    <tr>\n",
       "      <th>343206</th>\n",
       "      <td>NaN</td>\n",
       "      <td>39.512951</td>\n",
       "      <td>-119.840256</td>\n",
       "      <td>2554500</td>\n",
       "      <td>130820</td>\n",
       "      <td>b'\\nS2  00.109 D  306 U  00.088 V -00.064 W -0...</td>\n",
       "    </tr>\n",
       "    <tr>\n",
       "      <th>423282</th>\n",
       "      <td>NaN</td>\n",
       "      <td>39.512917</td>\n",
       "      <td>-119.840263</td>\n",
       "      <td>5091300</td>\n",
       "      <td>130820</td>\n",
       "      <td>b'\\nS2  00.059 D  323 U  00.035 V -00.048 W -0...</td>\n",
       "    </tr>\n",
       "    <tr>\n",
       "      <th>426472</th>\n",
       "      <td>NaN</td>\n",
       "      <td>39.512966</td>\n",
       "      <td>-119.840279</td>\n",
       "      <td>5143200</td>\n",
       "      <td>130820</td>\n",
       "      <td>b'\\nS2  00.063 D  229 U  00.048 V  00.041 W -0...</td>\n",
       "    </tr>\n",
       "    <tr>\n",
       "      <th>427682</th>\n",
       "      <td>NaN</td>\n",
       "      <td>39.512978</td>\n",
       "      <td>-119.840271</td>\n",
       "      <td>5163300</td>\n",
       "      <td>130820</td>\n",
       "      <td>b'\\nS2  00.073 D  292 U  00.067 V -00.028 W -0...</td>\n",
       "    </tr>\n",
       "    <tr>\n",
       "      <th>...</th>\n",
       "      <td>...</td>\n",
       "      <td>...</td>\n",
       "      <td>...</td>\n",
       "      <td>...</td>\n",
       "      <td>...</td>\n",
       "      <td>...</td>\n",
       "    </tr>\n",
       "    <tr>\n",
       "      <th>509856</th>\n",
       "      <td>NaN</td>\n",
       "      <td>39.512901</td>\n",
       "      <td>-119.840233</td>\n",
       "      <td>7331200</td>\n",
       "      <td>130820</td>\n",
       "      <td>b'\\nS2  00.034 D  290 U  00.032 V -00.012 W -0...</td>\n",
       "    </tr>\n",
       "    <tr>\n",
       "      <th>517776</th>\n",
       "      <td>NaN</td>\n",
       "      <td>39.512848</td>\n",
       "      <td>-119.840225</td>\n",
       "      <td>7422500</td>\n",
       "      <td>130820</td>\n",
       "      <td>b'\\nS2  00.105 D  301 U  00.090 V -00.053 W  0...</td>\n",
       "    </tr>\n",
       "    <tr>\n",
       "      <th>518326</th>\n",
       "      <td>NaN</td>\n",
       "      <td>39.512848</td>\n",
       "      <td>-119.840225</td>\n",
       "      <td>7422500</td>\n",
       "      <td>130820</td>\n",
       "      <td>b'\\nS2  00.166 D  301 U  00.142 V -00.087 W -0...</td>\n",
       "    </tr>\n",
       "    <tr>\n",
       "      <th>518546</th>\n",
       "      <td>NaN</td>\n",
       "      <td>39.512848</td>\n",
       "      <td>-119.840225</td>\n",
       "      <td>7422500</td>\n",
       "      <td>130820</td>\n",
       "      <td>b'\\nS2  00.015 D  205 U  00.006 V  00.014 W  0...</td>\n",
       "    </tr>\n",
       "    <tr>\n",
       "      <th>518766</th>\n",
       "      <td>NaN</td>\n",
       "      <td>39.512848</td>\n",
       "      <td>-119.840225</td>\n",
       "      <td>7422500</td>\n",
       "      <td>130820</td>\n",
       "      <td>b'\\nS2  00.072 D  296 U  00.065 V -00.032 W -0...</td>\n",
       "    </tr>\n",
       "  </tbody>\n",
       "</table>\n",
       "<p>64 rows × 6 columns</p>\n",
       "</div>"
      ],
      "text/plain": [
       "        millis        lat         lon  gps_time  gps_date  \\\n",
       "342986     NaN  39.512966 -119.840256   2552300    130820   \n",
       "343206     NaN  39.512951 -119.840256   2554500    130820   \n",
       "423282     NaN  39.512917 -119.840263   5091300    130820   \n",
       "426472     NaN  39.512966 -119.840279   5143200    130820   \n",
       "427682     NaN  39.512978 -119.840271   5163300    130820   \n",
       "...        ...        ...         ...       ...       ...   \n",
       "509856     NaN  39.512901 -119.840233   7331200    130820   \n",
       "517776     NaN  39.512848 -119.840225   7422500    130820   \n",
       "518326     NaN  39.512848 -119.840225   7422500    130820   \n",
       "518546     NaN  39.512848 -119.840225   7422500    130820   \n",
       "518766     NaN  39.512848 -119.840225   7422500    130820   \n",
       "\n",
       "                                                     wind  \n",
       "342986  b'\\nS2  00.136 D  307 U  00.108 V -00.082 W -0...  \n",
       "343206  b'\\nS2  00.109 D  306 U  00.088 V -00.064 W -0...  \n",
       "423282  b'\\nS2  00.059 D  323 U  00.035 V -00.048 W -0...  \n",
       "426472  b'\\nS2  00.063 D  229 U  00.048 V  00.041 W -0...  \n",
       "427682  b'\\nS2  00.073 D  292 U  00.067 V -00.028 W -0...  \n",
       "...                                                   ...  \n",
       "509856  b'\\nS2  00.034 D  290 U  00.032 V -00.012 W -0...  \n",
       "517776  b'\\nS2  00.105 D  301 U  00.090 V -00.053 W  0...  \n",
       "518326  b'\\nS2  00.166 D  301 U  00.142 V -00.087 W -0...  \n",
       "518546  b'\\nS2  00.015 D  205 U  00.006 V  00.014 W  0...  \n",
       "518766  b'\\nS2  00.072 D  296 U  00.065 V -00.032 W -0...  \n",
       "\n",
       "[64 rows x 6 columns]"
      ]
     },
     "execution_count": 190,
     "metadata": {},
     "output_type": "execute_result"
    }
   ],
   "source": [
    "df.loc[idx[0] + 1]"
   ]
  },
  {
   "cell_type": "code",
   "execution_count": 192,
   "metadata": {},
   "outputs": [],
   "source": [
    "df.millis.interpolate(inplace=True)"
   ]
  },
  {
   "cell_type": "code",
   "execution_count": 193,
   "metadata": {},
   "outputs": [
    {
     "data": {
      "text/html": [
       "<div>\n",
       "<style scoped>\n",
       "    .dataframe tbody tr th:only-of-type {\n",
       "        vertical-align: middle;\n",
       "    }\n",
       "\n",
       "    .dataframe tbody tr th {\n",
       "        vertical-align: top;\n",
       "    }\n",
       "\n",
       "    .dataframe thead th {\n",
       "        text-align: right;\n",
       "    }\n",
       "</style>\n",
       "<table border=\"1\" class=\"dataframe\">\n",
       "  <thead>\n",
       "    <tr style=\"text-align: right;\">\n",
       "      <th></th>\n",
       "      <th>millis</th>\n",
       "      <th>lat</th>\n",
       "      <th>lon</th>\n",
       "      <th>gps_time</th>\n",
       "      <th>gps_date</th>\n",
       "      <th>wind</th>\n",
       "    </tr>\n",
       "  </thead>\n",
       "  <tbody>\n",
       "    <tr>\n",
       "      <th>342986</th>\n",
       "      <td>34298194.0</td>\n",
       "      <td>39.512966</td>\n",
       "      <td>-119.840256</td>\n",
       "      <td>2552300</td>\n",
       "      <td>130820</td>\n",
       "      <td>b'\\nS2  00.136 D  307 U  00.108 V -00.082 W -0...</td>\n",
       "    </tr>\n",
       "    <tr>\n",
       "      <th>343206</th>\n",
       "      <td>34320193.5</td>\n",
       "      <td>39.512951</td>\n",
       "      <td>-119.840256</td>\n",
       "      <td>2554500</td>\n",
       "      <td>130820</td>\n",
       "      <td>b'\\nS2  00.109 D  306 U  00.088 V -00.064 W -0...</td>\n",
       "    </tr>\n",
       "    <tr>\n",
       "      <th>423282</th>\n",
       "      <td>42327568.0</td>\n",
       "      <td>39.512917</td>\n",
       "      <td>-119.840263</td>\n",
       "      <td>5091300</td>\n",
       "      <td>130820</td>\n",
       "      <td>b'\\nS2  00.059 D  323 U  00.035 V -00.048 W -0...</td>\n",
       "    </tr>\n",
       "    <tr>\n",
       "      <th>426472</th>\n",
       "      <td>42646559.0</td>\n",
       "      <td>39.512966</td>\n",
       "      <td>-119.840279</td>\n",
       "      <td>5143200</td>\n",
       "      <td>130820</td>\n",
       "      <td>b'\\nS2  00.063 D  229 U  00.048 V  00.041 W -0...</td>\n",
       "    </tr>\n",
       "    <tr>\n",
       "      <th>427682</th>\n",
       "      <td>42767556.0</td>\n",
       "      <td>39.512978</td>\n",
       "      <td>-119.840271</td>\n",
       "      <td>5163300</td>\n",
       "      <td>130820</td>\n",
       "      <td>b'\\nS2  00.073 D  292 U  00.067 V -00.028 W -0...</td>\n",
       "    </tr>\n",
       "    <tr>\n",
       "      <th>...</th>\n",
       "      <td>...</td>\n",
       "      <td>...</td>\n",
       "      <td>...</td>\n",
       "      <td>...</td>\n",
       "      <td>...</td>\n",
       "      <td>...</td>\n",
       "    </tr>\n",
       "    <tr>\n",
       "      <th>509856</th>\n",
       "      <td>50984725.0</td>\n",
       "      <td>39.512901</td>\n",
       "      <td>-119.840233</td>\n",
       "      <td>7331200</td>\n",
       "      <td>130820</td>\n",
       "      <td>b'\\nS2  00.034 D  290 U  00.032 V -00.012 W -0...</td>\n",
       "    </tr>\n",
       "    <tr>\n",
       "      <th>517776</th>\n",
       "      <td>51776702.5</td>\n",
       "      <td>39.512848</td>\n",
       "      <td>-119.840225</td>\n",
       "      <td>7422500</td>\n",
       "      <td>130820</td>\n",
       "      <td>b'\\nS2  00.105 D  301 U  00.090 V -00.053 W  0...</td>\n",
       "    </tr>\n",
       "    <tr>\n",
       "      <th>518326</th>\n",
       "      <td>51831701.0</td>\n",
       "      <td>39.512848</td>\n",
       "      <td>-119.840225</td>\n",
       "      <td>7422500</td>\n",
       "      <td>130820</td>\n",
       "      <td>b'\\nS2  00.166 D  301 U  00.142 V -00.087 W -0...</td>\n",
       "    </tr>\n",
       "    <tr>\n",
       "      <th>518546</th>\n",
       "      <td>51853700.0</td>\n",
       "      <td>39.512848</td>\n",
       "      <td>-119.840225</td>\n",
       "      <td>7422500</td>\n",
       "      <td>130820</td>\n",
       "      <td>b'\\nS2  00.015 D  205 U  00.006 V  00.014 W  0...</td>\n",
       "    </tr>\n",
       "    <tr>\n",
       "      <th>518766</th>\n",
       "      <td>51875700.0</td>\n",
       "      <td>39.512848</td>\n",
       "      <td>-119.840225</td>\n",
       "      <td>7422500</td>\n",
       "      <td>130820</td>\n",
       "      <td>b'\\nS2  00.072 D  296 U  00.065 V -00.032 W -0...</td>\n",
       "    </tr>\n",
       "  </tbody>\n",
       "</table>\n",
       "<p>64 rows × 6 columns</p>\n",
       "</div>"
      ],
      "text/plain": [
       "            millis        lat         lon  gps_time  gps_date  \\\n",
       "342986  34298194.0  39.512966 -119.840256   2552300    130820   \n",
       "343206  34320193.5  39.512951 -119.840256   2554500    130820   \n",
       "423282  42327568.0  39.512917 -119.840263   5091300    130820   \n",
       "426472  42646559.0  39.512966 -119.840279   5143200    130820   \n",
       "427682  42767556.0  39.512978 -119.840271   5163300    130820   \n",
       "...            ...        ...         ...       ...       ...   \n",
       "509856  50984725.0  39.512901 -119.840233   7331200    130820   \n",
       "517776  51776702.5  39.512848 -119.840225   7422500    130820   \n",
       "518326  51831701.0  39.512848 -119.840225   7422500    130820   \n",
       "518546  51853700.0  39.512848 -119.840225   7422500    130820   \n",
       "518766  51875700.0  39.512848 -119.840225   7422500    130820   \n",
       "\n",
       "                                                     wind  \n",
       "342986  b'\\nS2  00.136 D  307 U  00.108 V -00.082 W -0...  \n",
       "343206  b'\\nS2  00.109 D  306 U  00.088 V -00.064 W -0...  \n",
       "423282  b'\\nS2  00.059 D  323 U  00.035 V -00.048 W -0...  \n",
       "426472  b'\\nS2  00.063 D  229 U  00.048 V  00.041 W -0...  \n",
       "427682  b'\\nS2  00.073 D  292 U  00.067 V -00.028 W -0...  \n",
       "...                                                   ...  \n",
       "509856  b'\\nS2  00.034 D  290 U  00.032 V -00.012 W -0...  \n",
       "517776  b'\\nS2  00.105 D  301 U  00.090 V -00.053 W  0...  \n",
       "518326  b'\\nS2  00.166 D  301 U  00.142 V -00.087 W -0...  \n",
       "518546  b'\\nS2  00.015 D  205 U  00.006 V  00.014 W  0...  \n",
       "518766  b'\\nS2  00.072 D  296 U  00.065 V -00.032 W -0...  \n",
       "\n",
       "[64 rows x 6 columns]"
      ]
     },
     "execution_count": 193,
     "metadata": {},
     "output_type": "execute_result"
    }
   ],
   "source": [
    "df.loc[idx[0] + 1]"
   ]
  },
  {
   "cell_type": "code",
   "execution_count": 194,
   "metadata": {},
   "outputs": [],
   "source": [
    "df.millis = df.millis.astype(int)"
   ]
  },
  {
   "cell_type": "code",
   "execution_count": 195,
   "metadata": {},
   "outputs": [
    {
     "data": {
      "text/html": [
       "<div>\n",
       "<style scoped>\n",
       "    .dataframe tbody tr th:only-of-type {\n",
       "        vertical-align: middle;\n",
       "    }\n",
       "\n",
       "    .dataframe tbody tr th {\n",
       "        vertical-align: top;\n",
       "    }\n",
       "\n",
       "    .dataframe thead th {\n",
       "        text-align: right;\n",
       "    }\n",
       "</style>\n",
       "<table border=\"1\" class=\"dataframe\">\n",
       "  <thead>\n",
       "    <tr style=\"text-align: right;\">\n",
       "      <th></th>\n",
       "      <th>millis</th>\n",
       "      <th>lat</th>\n",
       "      <th>lon</th>\n",
       "      <th>gps_time</th>\n",
       "      <th>gps_date</th>\n",
       "      <th>wind</th>\n",
       "    </tr>\n",
       "  </thead>\n",
       "  <tbody>\n",
       "    <tr>\n",
       "      <th>342986</th>\n",
       "      <td>34298194</td>\n",
       "      <td>39.512966</td>\n",
       "      <td>-119.840256</td>\n",
       "      <td>2552300</td>\n",
       "      <td>130820</td>\n",
       "      <td>b'\\nS2  00.136 D  307 U  00.108 V -00.082 W -0...</td>\n",
       "    </tr>\n",
       "    <tr>\n",
       "      <th>343206</th>\n",
       "      <td>34320193</td>\n",
       "      <td>39.512951</td>\n",
       "      <td>-119.840256</td>\n",
       "      <td>2554500</td>\n",
       "      <td>130820</td>\n",
       "      <td>b'\\nS2  00.109 D  306 U  00.088 V -00.064 W -0...</td>\n",
       "    </tr>\n",
       "    <tr>\n",
       "      <th>423282</th>\n",
       "      <td>42327568</td>\n",
       "      <td>39.512917</td>\n",
       "      <td>-119.840263</td>\n",
       "      <td>5091300</td>\n",
       "      <td>130820</td>\n",
       "      <td>b'\\nS2  00.059 D  323 U  00.035 V -00.048 W -0...</td>\n",
       "    </tr>\n",
       "    <tr>\n",
       "      <th>426472</th>\n",
       "      <td>42646559</td>\n",
       "      <td>39.512966</td>\n",
       "      <td>-119.840279</td>\n",
       "      <td>5143200</td>\n",
       "      <td>130820</td>\n",
       "      <td>b'\\nS2  00.063 D  229 U  00.048 V  00.041 W -0...</td>\n",
       "    </tr>\n",
       "    <tr>\n",
       "      <th>427682</th>\n",
       "      <td>42767556</td>\n",
       "      <td>39.512978</td>\n",
       "      <td>-119.840271</td>\n",
       "      <td>5163300</td>\n",
       "      <td>130820</td>\n",
       "      <td>b'\\nS2  00.073 D  292 U  00.067 V -00.028 W -0...</td>\n",
       "    </tr>\n",
       "    <tr>\n",
       "      <th>...</th>\n",
       "      <td>...</td>\n",
       "      <td>...</td>\n",
       "      <td>...</td>\n",
       "      <td>...</td>\n",
       "      <td>...</td>\n",
       "      <td>...</td>\n",
       "    </tr>\n",
       "    <tr>\n",
       "      <th>509856</th>\n",
       "      <td>50984725</td>\n",
       "      <td>39.512901</td>\n",
       "      <td>-119.840233</td>\n",
       "      <td>7331200</td>\n",
       "      <td>130820</td>\n",
       "      <td>b'\\nS2  00.034 D  290 U  00.032 V -00.012 W -0...</td>\n",
       "    </tr>\n",
       "    <tr>\n",
       "      <th>517776</th>\n",
       "      <td>51776702</td>\n",
       "      <td>39.512848</td>\n",
       "      <td>-119.840225</td>\n",
       "      <td>7422500</td>\n",
       "      <td>130820</td>\n",
       "      <td>b'\\nS2  00.105 D  301 U  00.090 V -00.053 W  0...</td>\n",
       "    </tr>\n",
       "    <tr>\n",
       "      <th>518326</th>\n",
       "      <td>51831701</td>\n",
       "      <td>39.512848</td>\n",
       "      <td>-119.840225</td>\n",
       "      <td>7422500</td>\n",
       "      <td>130820</td>\n",
       "      <td>b'\\nS2  00.166 D  301 U  00.142 V -00.087 W -0...</td>\n",
       "    </tr>\n",
       "    <tr>\n",
       "      <th>518546</th>\n",
       "      <td>51853700</td>\n",
       "      <td>39.512848</td>\n",
       "      <td>-119.840225</td>\n",
       "      <td>7422500</td>\n",
       "      <td>130820</td>\n",
       "      <td>b'\\nS2  00.015 D  205 U  00.006 V  00.014 W  0...</td>\n",
       "    </tr>\n",
       "    <tr>\n",
       "      <th>518766</th>\n",
       "      <td>51875700</td>\n",
       "      <td>39.512848</td>\n",
       "      <td>-119.840225</td>\n",
       "      <td>7422500</td>\n",
       "      <td>130820</td>\n",
       "      <td>b'\\nS2  00.072 D  296 U  00.065 V -00.032 W -0...</td>\n",
       "    </tr>\n",
       "  </tbody>\n",
       "</table>\n",
       "<p>64 rows × 6 columns</p>\n",
       "</div>"
      ],
      "text/plain": [
       "          millis        lat         lon  gps_time  gps_date  \\\n",
       "342986  34298194  39.512966 -119.840256   2552300    130820   \n",
       "343206  34320193  39.512951 -119.840256   2554500    130820   \n",
       "423282  42327568  39.512917 -119.840263   5091300    130820   \n",
       "426472  42646559  39.512966 -119.840279   5143200    130820   \n",
       "427682  42767556  39.512978 -119.840271   5163300    130820   \n",
       "...          ...        ...         ...       ...       ...   \n",
       "509856  50984725  39.512901 -119.840233   7331200    130820   \n",
       "517776  51776702  39.512848 -119.840225   7422500    130820   \n",
       "518326  51831701  39.512848 -119.840225   7422500    130820   \n",
       "518546  51853700  39.512848 -119.840225   7422500    130820   \n",
       "518766  51875700  39.512848 -119.840225   7422500    130820   \n",
       "\n",
       "                                                     wind  \n",
       "342986  b'\\nS2  00.136 D  307 U  00.108 V -00.082 W -0...  \n",
       "343206  b'\\nS2  00.109 D  306 U  00.088 V -00.064 W -0...  \n",
       "423282  b'\\nS2  00.059 D  323 U  00.035 V -00.048 W -0...  \n",
       "426472  b'\\nS2  00.063 D  229 U  00.048 V  00.041 W -0...  \n",
       "427682  b'\\nS2  00.073 D  292 U  00.067 V -00.028 W -0...  \n",
       "...                                                   ...  \n",
       "509856  b'\\nS2  00.034 D  290 U  00.032 V -00.012 W -0...  \n",
       "517776  b'\\nS2  00.105 D  301 U  00.090 V -00.053 W  0...  \n",
       "518326  b'\\nS2  00.166 D  301 U  00.142 V -00.087 W -0...  \n",
       "518546  b'\\nS2  00.015 D  205 U  00.006 V  00.014 W  0...  \n",
       "518766  b'\\nS2  00.072 D  296 U  00.065 V -00.032 W -0...  \n",
       "\n",
       "[64 rows x 6 columns]"
      ]
     },
     "execution_count": 195,
     "metadata": {},
     "output_type": "execute_result"
    }
   ],
   "source": [
    "df.loc[idx[0] + 1]"
   ]
  },
  {
   "cell_type": "code",
   "execution_count": 196,
   "metadata": {},
   "outputs": [
    {
     "data": {
      "text/plain": [
       "[<matplotlib.lines.Line2D at 0x7f3c7f7c99a0>]"
      ]
     },
     "execution_count": 196,
     "metadata": {},
     "output_type": "execute_result"
    },
    {
     "data": {
      "image/png": "[encoded data removed]",
      "text/plain": [
       "<Figure size 432x288 with 1 Axes>"
      ]
     },
     "metadata": {
      "needs_background": "light"
     },
     "output_type": "display_data"
    }
   ],
   "source": [
    "plt.plot(df.millis)"
   ]
  },
  {
   "cell_type": "markdown",
   "metadata": {},
   "source": [
    "### Final"
   ]
  },
  {
   "cell_type": "code",
   "execution_count": 613,
   "metadata": {},
   "outputs": [],
   "source": [
    "def fix_millis_errors(df):\n",
    "    idx = np.where(  np.diff(df.millis.astype(int))<0 )\n",
    "    df.loc[idx[0] + 1, 'millis'] = np.nan\n",
    "    df.millis.interpolate(inplace=True)\n",
    "    df.millis = df.millis.astype(int)\n",
    "    return df"
   ]
  },
  {
   "cell_type": "code",
   "execution_count": 614,
   "metadata": {},
   "outputs": [],
   "source": [
    "df = fix_millis_errors(df)"
   ]
  },
  {
   "cell_type": "code",
   "execution_count": 615,
   "metadata": {},
   "outputs": [
    {
     "data": {
      "text/plain": [
       "[<matplotlib.lines.Line2D at 0x7f3c351722e0>]"
      ]
     },
     "execution_count": 615,
     "metadata": {},
     "output_type": "execute_result"
    },
    {
     "data": {
      "image/png": "[encoded data removed]",
      "text/plain": [
       "<Figure size 432x288 with 1 Axes>"
      ]
     },
     "metadata": {
      "needs_background": "light"
     },
     "output_type": "display_data"
    }
   ],
   "source": [
    "plt.plot(df.millis)"
   ]
  },
  {
   "cell_type": "code",
   "execution_count": null,
   "metadata": {},
   "outputs": [],
   "source": []
  },
  {
   "cell_type": "code",
   "execution_count": null,
   "metadata": {},
   "outputs": [],
   "source": []
  },
  {
   "cell_type": "markdown",
   "metadata": {},
   "source": [
    "# Fix GPS data"
   ]
  },
  {
   "cell_type": "markdown",
   "metadata": {},
   "source": [
    "### Drop the rows where both date and time are zero: before GPS fix\n",
    "\n",
    "If GPS time, or GPS date are zero, the data is no good.\n",
    "\n",
    "Google: \"pandas drop rows with value in column\" or something like that\n",
    "\n",
    "Top hit: https://stackoverflow.com/questions/18172851/deleting-dataframe-row-in-pandas-based-on-column-value\n",
    "\n",
    "Look at answer: `df = df[df.line_race != 0]`"
   ]
  },
  {
   "cell_type": "code",
   "execution_count": 567,
   "metadata": {},
   "outputs": [],
   "source": [
    "df = df[df.gps_date != 0]\n",
    "df = df[df.gps_time != 0]"
   ]
  },
  {
   "cell_type": "markdown",
   "metadata": {},
   "source": [
    "### Fix the other weird date points\n",
    "\n",
    "### First figure out what the problem is"
   ]
  },
  {
   "cell_type": "code",
   "execution_count": 568,
   "metadata": {},
   "outputs": [],
   "source": [
    "idx = np.where(  np.diff(df.gps_date.astype(int))<0 )"
   ]
  },
  {
   "cell_type": "code",
   "execution_count": 901,
   "metadata": {},
   "outputs": [
    {
     "data": {
      "text/plain": [
       "4         120820\n",
       "5         120820\n",
       "6         120820\n",
       "7         120820\n",
       "8         120820\n",
       "           ...  \n",
       "559345    130820\n",
       "559346    130820\n",
       "559347    130820\n",
       "559348    130820\n",
       "559349    130820\n",
       "Name: gps_date, Length: 559342, dtype: uint32"
      ]
     },
     "execution_count": 901,
     "metadata": {},
     "output_type": "execute_result"
    }
   ],
   "source": [
    "df.gps_date"
   ]
  },
  {
   "cell_type": "code",
   "execution_count": 569,
   "metadata": {},
   "outputs": [
    {
     "data": {
      "text/plain": [
       "(array([ 44036, 419537, 420527, 420747, 421517, 422507, 423497, 424267,\n",
       "        424487, 424707, 425697, 426247, 430431, 430651, 431201, 432187,\n",
       "        434167, 530074]),)"
      ]
     },
     "execution_count": 569,
     "metadata": {},
     "output_type": "execute_result"
    }
   ],
   "source": [
    "idx"
   ]
  },
  {
   "cell_type": "code",
   "execution_count": 570,
   "metadata": {},
   "outputs": [
    {
     "data": {
      "text/plain": [
       "44041      1208\n",
       "419542    11110\n",
       "420532    11110\n",
       "420752    11110\n",
       "421522    11110\n",
       "422512    11110\n",
       "423502    11110\n",
       "424272    11110\n",
       "424492    11110\n",
       "424712    11110\n",
       "425702    11110\n",
       "426252    11110\n",
       "430436     7992\n",
       "430656     7990\n",
       "431206     7986\n",
       "432192    11110\n",
       "434172    11110\n",
       "530083     1308\n",
       "Name: gps_date, dtype: uint32"
      ]
     },
     "execution_count": 570,
     "metadata": {},
     "output_type": "execute_result"
    }
   ],
   "source": [
    "df.loc[ df.index[idx[0]] + 1, 'gps_date'] "
   ]
  },
  {
   "cell_type": "markdown",
   "metadata": {},
   "source": [
    "The date should always be either constant, or increase by 1 day, or decrease by 28-31 days if there is a month roll over\n",
    "\n",
    "It's harder to find these errors with the date listed as DDMMYY\n",
    "\n",
    "Let's reverse it so it is "
   ]
  },
  {
   "cell_type": "code",
   "execution_count": 571,
   "metadata": {},
   "outputs": [],
   "source": [
    "df['gps_date_str'] = df.gps_date.astype(str)"
   ]
  },
  {
   "cell_type": "code",
   "execution_count": 572,
   "metadata": {},
   "outputs": [],
   "source": [
    "df['gps_date_str'] = [s.zfill(6) for s in df.gps_date_str.values]"
   ]
  },
  {
   "cell_type": "code",
   "execution_count": 573,
   "metadata": {},
   "outputs": [
    {
     "data": {
      "text/plain": [
       "4         120820\n",
       "5         120820\n",
       "6         120820\n",
       "7         120820\n",
       "8         120820\n",
       "           ...  \n",
       "559345    130820\n",
       "559346    130820\n",
       "559347    130820\n",
       "559348    130820\n",
       "559349    130820\n",
       "Name: gps_date_str, Length: 559342, dtype: object"
      ]
     },
     "execution_count": 573,
     "metadata": {},
     "output_type": "execute_result"
    }
   ],
   "source": [
    "df['gps_date_str']"
   ]
  },
  {
   "cell_type": "code",
   "execution_count": null,
   "metadata": {},
   "outputs": [],
   "source": []
  },
  {
   "cell_type": "code",
   "execution_count": 574,
   "metadata": {},
   "outputs": [
    {
     "data": {
      "text/plain": [
       "[<matplotlib.lines.Line2D at 0x7f3c41443b50>]"
      ]
     },
     "execution_count": 574,
     "metadata": {},
     "output_type": "execute_result"
    },
    {
     "data": {
      "image/png": "[encoded data removed]",
      "text/plain": [
       "<Figure size 432x288 with 1 Axes>"
      ]
     },
     "metadata": {
      "needs_background": "light"
     },
     "output_type": "display_data"
    }
   ],
   "source": [
    "df['year'] = np.array([ int(s[4:6]) for s in df['gps_date_str']])\n",
    "plt.plot(df['year'])"
   ]
  },
  {
   "cell_type": "code",
   "execution_count": 575,
   "metadata": {},
   "outputs": [
    {
     "data": {
      "text/plain": [
       "[<matplotlib.lines.Line2D at 0x7f3c41411a60>]"
      ]
     },
     "execution_count": 575,
     "metadata": {},
     "output_type": "execute_result"
    },
    {
     "data": {
      "image/png": "[encoded data removed]",
      "text/plain": [
       "<Figure size 432x288 with 1 Axes>"
      ]
     },
     "metadata": {
      "needs_background": "light"
     },
     "output_type": "display_data"
    }
   ],
   "source": [
    "df['month'] = [ int(s[2:4]) for s in df.gps_date_str]\n",
    "plt.plot(df['month'])"
   ]
  },
  {
   "cell_type": "code",
   "execution_count": 576,
   "metadata": {},
   "outputs": [
    {
     "data": {
      "text/plain": [
       "[<matplotlib.lines.Line2D at 0x7f3c413f12e0>]"
      ]
     },
     "execution_count": 576,
     "metadata": {},
     "output_type": "execute_result"
    },
    {
     "data": {
      "image/png": "[encoded data removed]",
      "text/plain": [
       "<Figure size 432x288 with 1 Axes>"
      ]
     },
     "metadata": {
      "needs_background": "light"
     },
     "output_type": "display_data"
    }
   ],
   "source": [
    "df['day'] = [ int(s[0:2]) for s in df.gps_date_str]\n",
    "plt.plot(df['day'])"
   ]
  },
  {
   "cell_type": "markdown",
   "metadata": {},
   "source": [
    "Errors seem to be in the same places for all three, let's use the year to find those spots and fix them"
   ]
  },
  {
   "cell_type": "code",
   "execution_count": 577,
   "metadata": {},
   "outputs": [],
   "source": [
    "correct_year = 20\n",
    "idx = np.where( df['year'].values != correct_year )[0]"
   ]
  },
  {
   "cell_type": "code",
   "execution_count": 578,
   "metadata": {},
   "outputs": [
    {
     "data": {
      "text/plain": [
       "array([ 44037,  44038,  44039,  44040,  44041,  44042,  44043,  44044,\n",
       "        44045,  44046,  44047,  44048,  44049,  44050,  44051,  44052,\n",
       "        44053,  44054,  44055,  44056,  44057,  44058,  44059,  44060,\n",
       "        44061,  44062,  44063,  44064,  44065,  44066,  44067,  44068,\n",
       "        44069,  44070,  44071,  44072,  44073,  44074,  44075,  44076,\n",
       "        44077,  44078,  44079,  44080,  44081,  44082,  44083,  44084,\n",
       "        44085,  44086,  44087,  44088,  44089,  44090,  44091,  44092,\n",
       "        44093,  44094,  44095,  44096,  44097,  44098,  44099,  44100,\n",
       "        44101,  44102,  44103,  44104,  44105,  44106,  44107,  44108,\n",
       "        44109,  44110,  44111,  44112,  44113,  44114,  44115,  44116,\n",
       "        44117,  44118,  44119,  44120,  44121,  44122,  44123,  44124,\n",
       "        44125,  44126,  44127,  44128,  44129,  44130,  44131,  44132,\n",
       "        44133,  44134,  44135,  44136,  44137,  44138,  44139,  44140,\n",
       "        44141,  44142,  44143,  44144,  44145,  44146,  44147,  44148,\n",
       "        44149,  44150,  44151,  44152,  44153,  44154,  44155,  44156,\n",
       "        44157,  44158,  44159,  44160,  44161,  44162,  44163,  44164,\n",
       "        44165,  44166,  44167,  44168,  44169,  44170,  44171,  44172,\n",
       "        44173,  44174,  44175,  44176,  44177,  44178,  44179,  44180,\n",
       "        44181,  44182,  44183,  44184,  44185,  44186,  44187,  44188,\n",
       "        44189,  44190,  44191,  44192,  44193,  44194,  44195,  44196,\n",
       "        44197,  44198,  44199,  44200,  44201,  44202,  44203,  44204,\n",
       "        44205,  44206,  44207,  44208,  44209,  44210,  44211,  44212,\n",
       "        44213,  44214,  44215,  44216,  44217,  44218,  44219,  44220,\n",
       "        44221,  44222,  44223,  44224,  44225,  44226,  44227,  44228,\n",
       "        44229,  44230,  44231,  44232,  44233,  44234,  44235,  44236,\n",
       "        44237,  44238,  44239,  44240,  44241,  44242,  44243,  44244,\n",
       "        44245,  44246,  44247,  44248,  44249,  44250,  44251,  44252,\n",
       "        44253,  44254,  44255,  44256, 419538, 420528, 420748, 421518,\n",
       "       422508, 423498, 424268, 424488, 424708, 425698, 426248, 430432,\n",
       "       430652, 431202, 432188, 434168, 530075, 530076, 530077, 530078,\n",
       "       530079, 530080, 530081, 530082, 530083, 530084])"
      ]
     },
     "execution_count": 578,
     "metadata": {},
     "output_type": "execute_result"
    }
   ],
   "source": [
    "idx"
   ]
  },
  {
   "cell_type": "code",
   "execution_count": 579,
   "metadata": {},
   "outputs": [],
   "source": [
    "df.loc[ df.index[idx].values, 'year'] = np.nan\n",
    "df['year'].interpolate(inplace=True)"
   ]
  },
  {
   "cell_type": "code",
   "execution_count": 580,
   "metadata": {},
   "outputs": [
    {
     "data": {
      "text/plain": [
       "[<matplotlib.lines.Line2D at 0x7f3c41349040>]"
      ]
     },
     "execution_count": 580,
     "metadata": {},
     "output_type": "execute_result"
    },
    {
     "data": {
      "image/png": "[encoded data removed]",
      "text/plain": [
       "<Figure size 432x288 with 1 Axes>"
      ]
     },
     "metadata": {
      "needs_background": "light"
     },
     "output_type": "display_data"
    }
   ],
   "source": [
    "plt.plot(df['year'])"
   ]
  },
  {
   "cell_type": "code",
   "execution_count": 581,
   "metadata": {},
   "outputs": [],
   "source": [
    "df.loc[ df.index[idx].values, 'month'] = np.nan\n",
    "df['month'].interpolate(inplace=True)"
   ]
  },
  {
   "cell_type": "code",
   "execution_count": 582,
   "metadata": {},
   "outputs": [
    {
     "data": {
      "text/plain": [
       "[<matplotlib.lines.Line2D at 0x7f3c41318e20>]"
      ]
     },
     "execution_count": 582,
     "metadata": {},
     "output_type": "execute_result"
    },
    {
     "data": {
      "image/png": "[encoded data removed]",
      "text/plain": [
       "<Figure size 432x288 with 1 Axes>"
      ]
     },
     "metadata": {
      "needs_background": "light"
     },
     "output_type": "display_data"
    }
   ],
   "source": [
    "plt.plot(df['month'])"
   ]
  },
  {
   "cell_type": "code",
   "execution_count": 583,
   "metadata": {},
   "outputs": [],
   "source": [
    "df.loc[ df.index[idx].values, 'day'] = np.nan\n",
    "df['day'].interpolate(inplace=True)"
   ]
  },
  {
   "cell_type": "code",
   "execution_count": 584,
   "metadata": {},
   "outputs": [
    {
     "data": {
      "text/plain": [
       "[<matplotlib.lines.Line2D at 0x7f3c412f5ac0>]"
      ]
     },
     "execution_count": 584,
     "metadata": {},
     "output_type": "execute_result"
    },
    {
     "data": {
      "image/png": "[encoded data removed]",
      "text/plain": [
       "<Figure size 432x288 with 1 Axes>"
      ]
     },
     "metadata": {
      "needs_background": "light"
     },
     "output_type": "display_data"
    }
   ],
   "source": [
    "plt.plot(df['day'])"
   ]
  },
  {
   "cell_type": "code",
   "execution_count": null,
   "metadata": {},
   "outputs": [],
   "source": []
  },
  {
   "cell_type": "markdown",
   "metadata": {},
   "source": [
    "### Final"
   ]
  },
  {
   "cell_type": "code",
   "execution_count": 655,
   "metadata": {},
   "outputs": [],
   "source": [
    "def fix_gps_date(df, correct_year=2020, base_year=2000):\n",
    "    df = df[df.gps_date != 0]\n",
    "    df = df[df.gps_time != 0]\n",
    "    \n",
    "    df['gps_date_str'] = df.gps_date.astype(str)\n",
    "    df['gps_date_str'] = [s.zfill(6) for s in df.gps_date_str.values]\n",
    "\n",
    "    df['year'] = np.array([ base_year + int(s[4:6]) for s in df['gps_date_str']])\n",
    "    df['month'] = [ int(s[2:4]) for s in df.gps_date_str]\n",
    "    df['day'] = [ int(s[0:2]) for s in df.gps_date_str]\n",
    "\n",
    "    idx = np.where( df['year'].values != correct_year )[0]\n",
    "\n",
    "    df.loc[ df.index[idx].values, 'year'] = np.nan\n",
    "    df['year'].interpolate(inplace=True)\n",
    "\n",
    "    df.loc[ df.index[idx].values, 'month'] = np.nan\n",
    "    df['month'].interpolate(inplace=True)\n",
    "\n",
    "    df.loc[ df.index[idx].values, 'day'] = np.nan\n",
    "    df['day'].interpolate(inplace=True)\n",
    "\n",
    "    return df"
   ]
  },
  {
   "cell_type": "code",
   "execution_count": 656,
   "metadata": {},
   "outputs": [],
   "source": [
    "df = fix_gps_date(df)"
   ]
  },
  {
   "cell_type": "code",
   "execution_count": 658,
   "metadata": {},
   "outputs": [
    {
     "data": {
      "text/plain": [
       "[<matplotlib.lines.Line2D at 0x7f3c2f0c5cd0>]"
      ]
     },
     "execution_count": 658,
     "metadata": {},
     "output_type": "execute_result"
    },
    {
     "data": {
      "image/png": "[encoded data removed]",
      "text/plain": [
       "<Figure size 432x288 with 1 Axes>"
      ]
     },
     "metadata": {
      "needs_background": "light"
     },
     "output_type": "display_data"
    }
   ],
   "source": [
    "plt.plot(df.year)"
   ]
  },
  {
   "cell_type": "code",
   "execution_count": null,
   "metadata": {},
   "outputs": [],
   "source": []
  },
  {
   "cell_type": "markdown",
   "metadata": {},
   "source": [
    "# Fix GPS Time"
   ]
  },
  {
   "cell_type": "markdown",
   "metadata": {},
   "source": [
    "### Same approach as date to get hour, minute, second"
   ]
  },
  {
   "cell_type": "code",
   "execution_count": null,
   "metadata": {},
   "outputs": [],
   "source": [
    "df.gps_time /= 100\n",
    "df.gps_time = df.gps_time.astype(int)\n",
    "df['gps_time_str'] = df.gps_time.astype(str)\n",
    "df['gps_time_str'] = [s.zfill(6) for s in df.gps_time_str.values]\n",
    "df['hour'] =   [ int(s[0:2]) for s in df['gps_time_str']]\n",
    "df['minute'] = [ int(s[2:4]) for s in df['gps_time_str']]\n",
    "df['second'] = [ int(s[4:6]) for s in df['gps_time_str']]"
   ]
  },
  {
   "cell_type": "markdown",
   "metadata": {},
   "source": [
    "### First, what is the problem?"
   ]
  },
  {
   "cell_type": "code",
   "execution_count": 734,
   "metadata": {},
   "outputs": [
    {
     "data": {
      "text/plain": [
       "[<matplotlib.lines.Line2D at 0x7f3c2eaeb3d0>]"
      ]
     },
     "execution_count": 734,
     "metadata": {},
     "output_type": "execute_result"
    },
    {
     "data": {
      "image/png": "[encoded data removed]",
      "text/plain": [
       "<Figure size 432x288 with 1 Axes>"
      ]
     },
     "metadata": {
      "needs_background": "light"
     },
     "output_type": "display_data"
    }
   ],
   "source": [
    "plt.plot(df.gps_time)"
   ]
  },
  {
   "cell_type": "code",
   "execution_count": 749,
   "metadata": {},
   "outputs": [
    {
     "data": {
      "text/plain": [
       "[<matplotlib.lines.Line2D at 0x7f3c2d32dca0>]"
      ]
     },
     "execution_count": 749,
     "metadata": {},
     "output_type": "execute_result"
    },
    {
     "data": {
      "image/png": "[encoded data removed]",
      "text/plain": [
       "<Figure size 432x288 with 1 Axes>"
      ]
     },
     "metadata": {
      "needs_background": "light"
     },
     "output_type": "display_data"
    }
   ],
   "source": [
    "plt.plot(df.gps_time[0:600])"
   ]
  },
  {
   "cell_type": "code",
   "execution_count": 752,
   "metadata": {},
   "outputs": [
    {
     "data": {
      "text/plain": [
       "[<matplotlib.lines.Line2D at 0x7f3c2d231c40>]"
      ]
     },
     "execution_count": 752,
     "metadata": {},
     "output_type": "execute_result"
    },
    {
     "data": {
      "image/png": "[encoded data removed]",
      "text/plain": [
       "<Figure size 432x288 with 1 Axes>"
      ]
     },
     "metadata": {
      "needs_background": "light"
     },
     "output_type": "display_data"
    }
   ],
   "source": [
    "plt.plot(df.gps_time[600:1600])"
   ]
  },
  {
   "cell_type": "code",
   "execution_count": 753,
   "metadata": {},
   "outputs": [
    {
     "data": {
      "text/plain": [
       "[<matplotlib.lines.Line2D at 0x7f3c2d1902e0>]"
      ]
     },
     "execution_count": 753,
     "metadata": {},
     "output_type": "execute_result"
    },
    {
     "data": {
      "image/png": "[encoded data removed]",
      "text/plain": [
       "<Figure size 432x288 with 1 Axes>"
      ]
     },
     "metadata": {
      "needs_background": "light"
     },
     "output_type": "display_data"
    }
   ],
   "source": [
    "plt.plot(df.gps_time[1400:2000])"
   ]
  },
  {
   "cell_type": "markdown",
   "metadata": {},
   "source": [
    "### Problem not clear.. \n",
    "\n",
    "Lets find a subset of the time data that should be correct: where second increased by 1, and minute and hour did not change"
   ]
  },
  {
   "cell_type": "code",
   "execution_count": 756,
   "metadata": {},
   "outputs": [],
   "source": [
    "time_diff = np.hstack( (0, np.diff(df.gps_time)) )"
   ]
  },
  {
   "cell_type": "code",
   "execution_count": 759,
   "metadata": {},
   "outputs": [],
   "source": [
    "idx = np.where(time_diff==1)[0]"
   ]
  },
  {
   "cell_type": "code",
   "execution_count": 764,
   "metadata": {},
   "outputs": [
    {
     "data": {
      "text/plain": [
       "4         170028\n",
       "5         170028\n",
       "6         170028\n",
       "7         170028\n",
       "8         170028\n",
       "           ...  \n",
       "559345     85559\n",
       "559346     85559\n",
       "559347     85559\n",
       "559348     85559\n",
       "559349     85559\n",
       "Name: gps_time, Length: 559342, dtype: int64"
      ]
     },
     "execution_count": 764,
     "metadata": {},
     "output_type": "execute_result"
    }
   ],
   "source": [
    "df.gps_time"
   ]
  },
  {
   "cell_type": "code",
   "execution_count": 760,
   "metadata": {},
   "outputs": [
    {
     "data": {
      "text/plain": [
       "array([    10,     20,     30, ..., 559315, 559325, 559335])"
      ]
     },
     "execution_count": 760,
     "metadata": {},
     "output_type": "execute_result"
    }
   ],
   "source": [
    "idx"
   ]
  },
  {
   "cell_type": "code",
   "execution_count": 763,
   "metadata": {},
   "outputs": [
    {
     "data": {
      "text/plain": [
       "[<matplotlib.lines.Line2D at 0x7f3c2d0c6940>]"
      ]
     },
     "execution_count": 763,
     "metadata": {},
     "output_type": "execute_result"
    },
    {
     "data": {
      "image/png": "[encoded data removed]",
      "text/plain": [
       "<Figure size 432x288 with 1 Axes>"
      ]
     },
     "metadata": {
      "needs_background": "light"
     },
     "output_type": "display_data"
    }
   ],
   "source": [
    "plt.plot(df.gps_time.loc[df.index[idx]], '.')"
   ]
  },
  {
   "cell_type": "markdown",
   "metadata": {},
   "source": [
    "### Now get epoch time for each of those points"
   ]
  },
  {
   "cell_type": "code",
   "execution_count": 792,
   "metadata": {},
   "outputs": [],
   "source": [
    "# Note: GPS time is in GMT (greenwich time)\n",
    "millis_vals = []\n",
    "epoch_vals = []\n",
    "\n",
    "for i in idx:\n",
    "    t = calendar.timegm((int(df.year.iloc[i]), \n",
    "                         int(df.month.iloc[i]), \n",
    "                         int(df.day.iloc[i]), \n",
    "                         int(df.hour.iloc[i]), \n",
    "                         int(df.minute.iloc[i]), \n",
    "                         int(df.second.iloc[i]), \n",
    "                         -1, -1, -1) )\n",
    "    millis_vals.append(df.millis.iloc[i])\n",
    "    epoch_vals.append(t)\n",
    "    \n",
    "millis_vals = np.array(millis_vals)\n",
    "epoch_vals = np.array(epoch_vals)"
   ]
  },
  {
   "cell_type": "code",
   "execution_count": 793,
   "metadata": {},
   "outputs": [
    {
     "data": {
      "text/plain": [
       "[<matplotlib.lines.Line2D at 0x7f3bcff11df0>]"
      ]
     },
     "execution_count": 793,
     "metadata": {},
     "output_type": "execute_result"
    },
    {
     "data": {
      "image/png": "[encoded data removed]",
      "text/plain": [
       "<Figure size 432x288 with 1 Axes>"
      ]
     },
     "metadata": {
      "needs_background": "light"
     },
     "output_type": "display_data"
    }
   ],
   "source": [
    "plt.plot(millis_vals, epoch_vals, '.')"
   ]
  },
  {
   "cell_type": "markdown",
   "metadata": {},
   "source": [
    "### linear regression.. but there are still some nasty points\n",
    "\n",
    "Use RANSAC:\n",
    "https://scikit-learn.org/stable/auto_examples/linear_model/plot_ransac.html"
   ]
  },
  {
   "cell_type": "code",
   "execution_count": 820,
   "metadata": {},
   "outputs": [],
   "source": [
    "import scipy.stats # generic linear regression\n",
    "from sklearn import linear_model # some fancy stuff"
   ]
  },
  {
   "cell_type": "code",
   "execution_count": 794,
   "metadata": {},
   "outputs": [],
   "source": []
  },
  {
   "cell_type": "code",
   "execution_count": 906,
   "metadata": {},
   "outputs": [],
   "source": [
    "ransac = linear_model.RANSACRegressor(residual_threshold=0.08) # threshold determines how many inliers/outliers\n",
    "ransac.fit( millis_vals.reshape(1, -1).T, epoch_vals  )\n",
    "inlier_mask = ransac.inlier_mask_\n",
    "outlier_mask = np.logical_not(inlier_mask)"
   ]
  },
  {
   "cell_type": "code",
   "execution_count": 907,
   "metadata": {},
   "outputs": [
    {
     "data": {
      "text/plain": [
       "[<matplotlib.lines.Line2D at 0x7f3b52c3e040>]"
      ]
     },
     "execution_count": 907,
     "metadata": {},
     "output_type": "execute_result"
    },
    {
     "data": {
      "image/png": "[encoded data removed]",
      "text/plain": [
       "<Figure size 432x288 with 1 Axes>"
      ]
     },
     "metadata": {
      "needs_background": "light"
     },
     "output_type": "display_data"
    }
   ],
   "source": [
    "plt.plot(millis_vals[outlier_mask], epoch_vals[outlier_mask], '.', color='red')\n",
    "plt.plot(millis_vals[inlier_mask], epoch_vals[inlier_mask], '.', color='blue')"
   ]
  },
  {
   "cell_type": "code",
   "execution_count": 824,
   "metadata": {},
   "outputs": [],
   "source": [
    "result = scipy.stats.linregress(millis_vals[inlier_mask], epoch_vals[inlier_mask])"
   ]
  },
  {
   "cell_type": "code",
   "execution_count": 825,
   "metadata": {},
   "outputs": [
    {
     "data": {
      "text/plain": [
       "LinregressResult(slope=0.0010000240036109425, intercept=1597253024.4039507, rvalue=0.9999999999989746, pvalue=0.0, stderr=8.183412642107844e-12)"
      ]
     },
     "execution_count": 825,
     "metadata": {},
     "output_type": "execute_result"
    }
   ],
   "source": [
    "result"
   ]
  },
  {
   "cell_type": "code",
   "execution_count": 827,
   "metadata": {},
   "outputs": [],
   "source": [
    "interpolated_epoch_time = df.millis*result.slope + result.intercept"
   ]
  },
  {
   "cell_type": "code",
   "execution_count": 829,
   "metadata": {},
   "outputs": [
    {
     "data": {
      "text/plain": [
       "[<matplotlib.lines.Line2D at 0x7f3bcd709d00>]"
      ]
     },
     "execution_count": 829,
     "metadata": {},
     "output_type": "execute_result"
    },
    {
     "data": {
      "image/png": "[encoded data removed]",
      "text/plain": [
       "<Figure size 432x288 with 1 Axes>"
      ]
     },
     "metadata": {
      "needs_background": "light"
     },
     "output_type": "display_data"
    }
   ],
   "source": [
    "plt.plot(millis_vals[outlier_mask], epoch_vals[outlier_mask], '.', color='red')\n",
    "plt.plot(millis_vals[inlier_mask], epoch_vals[inlier_mask], '.', color='blue')\n",
    "plt.plot(df.millis, interpolated_epoch_time, color='green', linewidth=0.5)"
   ]
  },
  {
   "cell_type": "code",
   "execution_count": 830,
   "metadata": {},
   "outputs": [],
   "source": [
    "df['time_epoch'] = interpolated_epoch_time"
   ]
  },
  {
   "cell_type": "markdown",
   "metadata": {},
   "source": [
    "### Final"
   ]
  },
  {
   "cell_type": "code",
   "execution_count": null,
   "metadata": {},
   "outputs": [],
   "source": [
    "import scipy.stats # generic linear regression\n",
    "from sklearn import linear_model # some fancy stuff"
   ]
  },
  {
   "cell_type": "code",
   "execution_count": null,
   "metadata": {},
   "outputs": [],
   "source": [
    "def calc_interpolated_epoch_time(df):\n",
    "    df.gps_time /= 100\n",
    "    df.gps_time = df.gps_time.astype(int)\n",
    "    df['gps_time_str'] = df.gps_time.astype(str)\n",
    "    df['gps_time_str'] = [s.zfill(6) for s in df.gps_time_str.values]\n",
    "    df['hour'] =   [ int(s[0:2]) for s in df['gps_time_str']]\n",
    "    df['minute'] = [ int(s[2:4]) for s in df['gps_time_str']]\n",
    "    df['second'] = [ int(s[4:6]) for s in df['gps_time_str']]\n",
    "\n",
    "    \n",
    "    time_diff = np.hstack( (0, np.diff(df.gps_time)) )\n",
    "    idx = np.where(time_diff==1)[0]\n",
    "    \n",
    "    # Note: GPS time is in GMT (greenwich time)\n",
    "    millis_vals = []\n",
    "    epoch_vals = []\n",
    "\n",
    "    for i in idx:\n",
    "        t = calendar.timegm((int(df.year.iloc[i]), \n",
    "                             int(df.month.iloc[i]), \n",
    "                             int(df.day.iloc[i]), \n",
    "                             int(df.hour.iloc[i]), \n",
    "                             int(df.minute.iloc[i]), \n",
    "                             int(df.second.iloc[i]), \n",
    "                             -1, -1, -1) )\n",
    "        millis_vals.append(df.millis.iloc[i])\n",
    "        epoch_vals.append(t)\n",
    "\n",
    "    millis_vals = np.array(millis_vals)\n",
    "    epoch_vals = np.array(epoch_vals)\n",
    "    \n",
    "    ransac = linear_model.RANSACRegressor(residual_threshold=0.08) # threshold determines how many inliers/outliers\n",
    "    ransac.fit( millis_vals.reshape(1, -1).T, epoch_vals  )\n",
    "    inlier_mask = ransac.inlier_mask_\n",
    "    outlier_mask = np.logical_not(inlier_mask)\n",
    "    \n",
    "    result = scipy.stats.linregress(millis_vals[inlier_mask], epoch_vals[inlier_mask])\n",
    "    \n",
    "    interpolated_epoch_time = df.millis*result.slope + result.intercept\n",
    "    \n",
    "    df['time_epoch'] = interpolated_epoch_time\n",
    "    \n",
    "    return df"
   ]
  },
  {
   "cell_type": "code",
   "execution_count": null,
   "metadata": {},
   "outputs": [],
   "source": []
  },
  {
   "cell_type": "markdown",
   "metadata": {},
   "source": [
    "# Parse wind string"
   ]
  },
  {
   "cell_type": "code",
   "execution_count": 833,
   "metadata": {},
   "outputs": [],
   "source": [
    "s = df.wind.values[0]"
   ]
  },
  {
   "cell_type": "code",
   "execution_count": 834,
   "metadata": {},
   "outputs": [
    {
     "data": {
      "text/plain": [
       "b'\\nS2  00.026 D  231 U  00.020 V  00.016 W -00.017 T  21.68 RHSH  00.31 AX  -1792 AY  -2304 AZ -16384 MD  175 '"
      ]
     },
     "execution_count": 834,
     "metadata": {},
     "output_type": "execute_result"
    }
   ],
   "source": [
    "s"
   ]
  },
  {
   "cell_type": "code",
   "execution_count": 837,
   "metadata": {},
   "outputs": [
    {
     "name": "stdout",
     "output_type": "stream",
     "text": [
      "b'S2  00.026 D  231 U  00.020 V  00.016 W -00.017 T  21.68 RHSH  00.31 AX  -1792 AY  -2304 AZ -16384 MD  175'\n"
     ]
    }
   ],
   "source": [
    "s = s.lstrip().rstrip()\n",
    "print(s)"
   ]
  },
  {
   "cell_type": "code",
   "execution_count": 841,
   "metadata": {},
   "outputs": [
    {
     "ename": "TypeError",
     "evalue": "a bytes-like object is required, not 'str'",
     "output_type": "error",
     "traceback": [
      "\u001b[0;31m---------------------------------------------------------------------------\u001b[0m",
      "\u001b[0;31mTypeError\u001b[0m                                 Traceback (most recent call last)",
      "\u001b[0;32m<ipython-input-841-8c91ae87fc58>\u001b[0m in \u001b[0;36m<module>\u001b[0;34m\u001b[0m\n\u001b[0;32m----> 1\u001b[0;31m \u001b[0ms\u001b[0m\u001b[0;34m.\u001b[0m\u001b[0msplit\u001b[0m\u001b[0;34m(\u001b[0m\u001b[0;34m' '\u001b[0m\u001b[0;34m)\u001b[0m\u001b[0;34m\u001b[0m\u001b[0;34m\u001b[0m\u001b[0m\n\u001b[0m",
      "\u001b[0;31mTypeError\u001b[0m: a bytes-like object is required, not 'str'"
     ]
    }
   ],
   "source": [
    "s.split(' ')"
   ]
  },
  {
   "cell_type": "code",
   "execution_count": 842,
   "metadata": {},
   "outputs": [
    {
     "data": {
      "text/plain": [
       "[b'S2',\n",
       " b'',\n",
       " b'00.026',\n",
       " b'D',\n",
       " b'',\n",
       " b'231',\n",
       " b'U',\n",
       " b'',\n",
       " b'00.020',\n",
       " b'V',\n",
       " b'',\n",
       " b'00.016',\n",
       " b'W',\n",
       " b'-00.017',\n",
       " b'T',\n",
       " b'',\n",
       " b'21.68',\n",
       " b'RHSH',\n",
       " b'',\n",
       " b'00.31',\n",
       " b'AX',\n",
       " b'',\n",
       " b'-1792',\n",
       " b'AY',\n",
       " b'',\n",
       " b'-2304',\n",
       " b'AZ',\n",
       " b'-16384',\n",
       " b'MD',\n",
       " b'',\n",
       " b'175']"
      ]
     },
     "execution_count": 842,
     "metadata": {},
     "output_type": "execute_result"
    }
   ],
   "source": [
    "s.split(b' ')"
   ]
  },
  {
   "cell_type": "code",
   "execution_count": 844,
   "metadata": {},
   "outputs": [],
   "source": [
    "ls = []\n",
    "for ss in s.split(b' '):\n",
    "    if len(ss) > 0:\n",
    "        ls.append(ss)"
   ]
  },
  {
   "cell_type": "code",
   "execution_count": 845,
   "metadata": {},
   "outputs": [
    {
     "data": {
      "text/plain": [
       "[b'S2',\n",
       " b'00.026',\n",
       " b'D',\n",
       " b'231',\n",
       " b'U',\n",
       " b'00.020',\n",
       " b'V',\n",
       " b'00.016',\n",
       " b'W',\n",
       " b'-00.017',\n",
       " b'T',\n",
       " b'21.68',\n",
       " b'RHSH',\n",
       " b'00.31',\n",
       " b'AX',\n",
       " b'-1792',\n",
       " b'AY',\n",
       " b'-2304',\n",
       " b'AZ',\n",
       " b'-16384',\n",
       " b'MD',\n",
       " b'175']"
      ]
     },
     "execution_count": 845,
     "metadata": {},
     "output_type": "execute_result"
    }
   ],
   "source": [
    "ls"
   ]
  },
  {
   "cell_type": "code",
   "execution_count": 846,
   "metadata": {},
   "outputs": [],
   "source": [
    "labels = ls[0::2]"
   ]
  },
  {
   "cell_type": "code",
   "execution_count": 847,
   "metadata": {},
   "outputs": [
    {
     "data": {
      "text/plain": [
       "[b'S2', b'D', b'U', b'V', b'W', b'T', b'RHSH', b'AX', b'AY', b'AZ', b'MD']"
      ]
     },
     "execution_count": 847,
     "metadata": {},
     "output_type": "execute_result"
    }
   ],
   "source": [
    "labels"
   ]
  },
  {
   "cell_type": "code",
   "execution_count": 863,
   "metadata": {},
   "outputs": [],
   "source": [
    "# get rid of the b:\n",
    "# google: remove b from string python\n",
    "# first hit: https://stackoverflow.com/questions/37016946/remove-b-character-do-in-front-of-a-string-literal-in-python-3\n",
    "labels = [l.decode('utf-8') for l in labels]"
   ]
  },
  {
   "cell_type": "code",
   "execution_count": 864,
   "metadata": {},
   "outputs": [
    {
     "data": {
      "text/plain": [
       "['S2', 'D', 'U', 'V', 'W', 'T', 'RHSH', 'AX', 'AY', 'AZ', 'MD']"
      ]
     },
     "execution_count": 864,
     "metadata": {},
     "output_type": "execute_result"
    }
   ],
   "source": [
    "labels"
   ]
  },
  {
   "cell_type": "code",
   "execution_count": 848,
   "metadata": {},
   "outputs": [],
   "source": [
    "vals = ls[1::2]"
   ]
  },
  {
   "cell_type": "code",
   "execution_count": 849,
   "metadata": {},
   "outputs": [
    {
     "data": {
      "text/plain": [
       "[b'00.026',\n",
       " b'231',\n",
       " b'00.020',\n",
       " b'00.016',\n",
       " b'-00.017',\n",
       " b'21.68',\n",
       " b'00.31',\n",
       " b'-1792',\n",
       " b'-2304',\n",
       " b'-16384',\n",
       " b'175']"
      ]
     },
     "execution_count": 849,
     "metadata": {},
     "output_type": "execute_result"
    }
   ],
   "source": [
    "vals"
   ]
  },
  {
   "cell_type": "code",
   "execution_count": 850,
   "metadata": {},
   "outputs": [],
   "source": [
    "vals = np.array(vals).astype(float)"
   ]
  },
  {
   "cell_type": "code",
   "execution_count": 851,
   "metadata": {},
   "outputs": [
    {
     "data": {
      "text/plain": [
       "array([ 2.6000e-02,  2.3100e+02,  2.0000e-02,  1.6000e-02, -1.7000e-02,\n",
       "        2.1680e+01,  3.1000e-01, -1.7920e+03, -2.3040e+03, -1.6384e+04,\n",
       "        1.7500e+02])"
      ]
     },
     "execution_count": 851,
     "metadata": {},
     "output_type": "execute_result"
    }
   ],
   "source": [
    "vals"
   ]
  },
  {
   "cell_type": "markdown",
   "metadata": {},
   "source": [
    "### package into a dict"
   ]
  },
  {
   "cell_type": "code",
   "execution_count": 855,
   "metadata": {},
   "outputs": [],
   "source": [
    "d = {labels[i]: vals[i] for i in range(len(vals)) }"
   ]
  },
  {
   "cell_type": "code",
   "execution_count": 856,
   "metadata": {},
   "outputs": [
    {
     "data": {
      "text/plain": [
       "{b'S2': 0.026,\n",
       " b'D': 231.0,\n",
       " b'U': 0.02,\n",
       " b'V': 0.016,\n",
       " b'W': -0.017,\n",
       " b'T': 21.68,\n",
       " b'RHSH': 0.31,\n",
       " b'AX': -1792.0,\n",
       " b'AY': -2304.0,\n",
       " b'AZ': -16384.0,\n",
       " b'MD': 175.0}"
      ]
     },
     "execution_count": 856,
     "metadata": {},
     "output_type": "execute_result"
    }
   ],
   "source": [
    "d"
   ]
  },
  {
   "cell_type": "markdown",
   "metadata": {},
   "source": [
    "### get 1 function to do this"
   ]
  },
  {
   "cell_type": "code",
   "execution_count": 924,
   "metadata": {},
   "outputs": [],
   "source": [
    "def parse_wind_string(s):\n",
    "    s = s.lstrip().rstrip()\n",
    "    s = s.split(b'\\x004')[0]\n",
    "    s = s.rstrip()\n",
    "    \n",
    "    ls = []\n",
    "    for ss in s.split(b' '):\n",
    "        if len(ss) > 0:\n",
    "            ls.append(ss)\n",
    "            \n",
    "    try:\n",
    "        labels = ls[0::2]\n",
    "        labels = [l.decode('utf-8') for l in labels]\n",
    "\n",
    "        vals = ls[1::2]\n",
    "        vals = np.array(vals).astype(float)\n",
    "    \n",
    "        d = {labels[i]: vals[i] for i in range(len(vals)) }\n",
    "    \n",
    "    except:\n",
    "        d = None\n",
    "    \n",
    "    return d"
   ]
  },
  {
   "cell_type": "markdown",
   "metadata": {},
   "source": [
    "### Now iterate through all rows and do this"
   ]
  },
  {
   "cell_type": "code",
   "execution_count": 929,
   "metadata": {},
   "outputs": [],
   "source": [
    "d = parse_wind_string(df.wind.values[440])"
   ]
  },
  {
   "cell_type": "code",
   "execution_count": 930,
   "metadata": {},
   "outputs": [
    {
     "data": {
      "text/plain": [
       "{'S2': 0.054,\n",
       " 'D': 317.0,\n",
       " 'U': 0.037,\n",
       " 'V': -0.04,\n",
       " 'W': -0.055,\n",
       " 'T': 21.69,\n",
       " 'RHSH': 0.31,\n",
       " 'AX': -1792.0,\n",
       " 'AY': -2304.0,\n",
       " 'AZ': -16384.0,\n",
       " 'MD': 174.0}"
      ]
     },
     "execution_count": 930,
     "metadata": {},
     "output_type": "execute_result"
    }
   ],
   "source": [
    "d"
   ]
  },
  {
   "cell_type": "code",
   "execution_count": 868,
   "metadata": {},
   "outputs": [],
   "source": [
    "# initialize new columns\n",
    "for key in d.keys():\n",
    "    df[key] = 0"
   ]
  },
  {
   "cell_type": "code",
   "execution_count": 869,
   "metadata": {},
   "outputs": [
    {
     "data": {
      "text/html": [
       "<div>\n",
       "<style scoped>\n",
       "    .dataframe tbody tr th:only-of-type {\n",
       "        vertical-align: middle;\n",
       "    }\n",
       "\n",
       "    .dataframe tbody tr th {\n",
       "        vertical-align: top;\n",
       "    }\n",
       "\n",
       "    .dataframe thead th {\n",
       "        text-align: right;\n",
       "    }\n",
       "</style>\n",
       "<table border=\"1\" class=\"dataframe\">\n",
       "  <thead>\n",
       "    <tr style=\"text-align: right;\">\n",
       "      <th></th>\n",
       "      <th>millis</th>\n",
       "      <th>lat</th>\n",
       "      <th>lon</th>\n",
       "      <th>gps_time</th>\n",
       "      <th>gps_date</th>\n",
       "      <th>wind</th>\n",
       "      <th>gps_date_str</th>\n",
       "      <th>year</th>\n",
       "      <th>month</th>\n",
       "      <th>day</th>\n",
       "      <th>...</th>\n",
       "      <th>D</th>\n",
       "      <th>U</th>\n",
       "      <th>V</th>\n",
       "      <th>W</th>\n",
       "      <th>T</th>\n",
       "      <th>RHSH</th>\n",
       "      <th>AX</th>\n",
       "      <th>AY</th>\n",
       "      <th>AZ</th>\n",
       "      <th>MD</th>\n",
       "    </tr>\n",
       "  </thead>\n",
       "  <tbody>\n",
       "    <tr>\n",
       "      <th>4</th>\n",
       "      <td>1043</td>\n",
       "      <td>39.513016</td>\n",
       "      <td>-119.840286</td>\n",
       "      <td>170028</td>\n",
       "      <td>120820</td>\n",
       "      <td>b'\\nS2  00.026 D  231 U  00.020 V  00.016 W -0...</td>\n",
       "      <td>120820</td>\n",
       "      <td>2020.0</td>\n",
       "      <td>8.0</td>\n",
       "      <td>12.0</td>\n",
       "      <td>...</td>\n",
       "      <td>0</td>\n",
       "      <td>0</td>\n",
       "      <td>0</td>\n",
       "      <td>0</td>\n",
       "      <td>0</td>\n",
       "      <td>0</td>\n",
       "      <td>0</td>\n",
       "      <td>0</td>\n",
       "      <td>0</td>\n",
       "      <td>0</td>\n",
       "    </tr>\n",
       "    <tr>\n",
       "      <th>5</th>\n",
       "      <td>1143</td>\n",
       "      <td>39.513016</td>\n",
       "      <td>-119.840286</td>\n",
       "      <td>170028</td>\n",
       "      <td>120820</td>\n",
       "      <td>b'\\nS2  00.076 D  250 U  00.071 V  00.026 W -0...</td>\n",
       "      <td>120820</td>\n",
       "      <td>2020.0</td>\n",
       "      <td>8.0</td>\n",
       "      <td>12.0</td>\n",
       "      <td>...</td>\n",
       "      <td>0</td>\n",
       "      <td>0</td>\n",
       "      <td>0</td>\n",
       "      <td>0</td>\n",
       "      <td>0</td>\n",
       "      <td>0</td>\n",
       "      <td>0</td>\n",
       "      <td>0</td>\n",
       "      <td>0</td>\n",
       "      <td>0</td>\n",
       "    </tr>\n",
       "    <tr>\n",
       "      <th>6</th>\n",
       "      <td>1243</td>\n",
       "      <td>39.513016</td>\n",
       "      <td>-119.840286</td>\n",
       "      <td>170028</td>\n",
       "      <td>120820</td>\n",
       "      <td>b'\\nS2  00.092 D  250 U  00.087 V  00.032 W -0...</td>\n",
       "      <td>120820</td>\n",
       "      <td>2020.0</td>\n",
       "      <td>8.0</td>\n",
       "      <td>12.0</td>\n",
       "      <td>...</td>\n",
       "      <td>0</td>\n",
       "      <td>0</td>\n",
       "      <td>0</td>\n",
       "      <td>0</td>\n",
       "      <td>0</td>\n",
       "      <td>0</td>\n",
       "      <td>0</td>\n",
       "      <td>0</td>\n",
       "      <td>0</td>\n",
       "      <td>0</td>\n",
       "    </tr>\n",
       "    <tr>\n",
       "      <th>7</th>\n",
       "      <td>1343</td>\n",
       "      <td>39.513016</td>\n",
       "      <td>-119.840286</td>\n",
       "      <td>170028</td>\n",
       "      <td>120820</td>\n",
       "      <td>b'\\nS2  00.093 D  302 U  00.079 V -00.049 W -0...</td>\n",
       "      <td>120820</td>\n",
       "      <td>2020.0</td>\n",
       "      <td>8.0</td>\n",
       "      <td>12.0</td>\n",
       "      <td>...</td>\n",
       "      <td>0</td>\n",
       "      <td>0</td>\n",
       "      <td>0</td>\n",
       "      <td>0</td>\n",
       "      <td>0</td>\n",
       "      <td>0</td>\n",
       "      <td>0</td>\n",
       "      <td>0</td>\n",
       "      <td>0</td>\n",
       "      <td>0</td>\n",
       "    </tr>\n",
       "    <tr>\n",
       "      <th>8</th>\n",
       "      <td>1443</td>\n",
       "      <td>39.513016</td>\n",
       "      <td>-119.840286</td>\n",
       "      <td>170028</td>\n",
       "      <td>120820</td>\n",
       "      <td>b'\\nS2  00.016 D  283 U  00.016 V -00.004 W -0...</td>\n",
       "      <td>120820</td>\n",
       "      <td>2020.0</td>\n",
       "      <td>8.0</td>\n",
       "      <td>12.0</td>\n",
       "      <td>...</td>\n",
       "      <td>0</td>\n",
       "      <td>0</td>\n",
       "      <td>0</td>\n",
       "      <td>0</td>\n",
       "      <td>0</td>\n",
       "      <td>0</td>\n",
       "      <td>0</td>\n",
       "      <td>0</td>\n",
       "      <td>0</td>\n",
       "      <td>0</td>\n",
       "    </tr>\n",
       "    <tr>\n",
       "      <th>...</th>\n",
       "      <td>...</td>\n",
       "      <td>...</td>\n",
       "      <td>...</td>\n",
       "      <td>...</td>\n",
       "      <td>...</td>\n",
       "      <td>...</td>\n",
       "      <td>...</td>\n",
       "      <td>...</td>\n",
       "      <td>...</td>\n",
       "      <td>...</td>\n",
       "      <td>...</td>\n",
       "      <td>...</td>\n",
       "      <td>...</td>\n",
       "      <td>...</td>\n",
       "      <td>...</td>\n",
       "      <td>...</td>\n",
       "      <td>...</td>\n",
       "      <td>...</td>\n",
       "      <td>...</td>\n",
       "      <td>...</td>\n",
       "      <td>...</td>\n",
       "    </tr>\n",
       "    <tr>\n",
       "      <th>559345</th>\n",
       "      <td>55933486</td>\n",
       "      <td>39.512928</td>\n",
       "      <td>-119.840248</td>\n",
       "      <td>85559</td>\n",
       "      <td>130820</td>\n",
       "      <td>b'\\nS2  00.122 D  302 U  00.104 V -00.065 W -0...</td>\n",
       "      <td>130820</td>\n",
       "      <td>2020.0</td>\n",
       "      <td>8.0</td>\n",
       "      <td>13.0</td>\n",
       "      <td>...</td>\n",
       "      <td>0</td>\n",
       "      <td>0</td>\n",
       "      <td>0</td>\n",
       "      <td>0</td>\n",
       "      <td>0</td>\n",
       "      <td>0</td>\n",
       "      <td>0</td>\n",
       "      <td>0</td>\n",
       "      <td>0</td>\n",
       "      <td>0</td>\n",
       "    </tr>\n",
       "    <tr>\n",
       "      <th>559346</th>\n",
       "      <td>55933586</td>\n",
       "      <td>39.512928</td>\n",
       "      <td>-119.840248</td>\n",
       "      <td>85559</td>\n",
       "      <td>130820</td>\n",
       "      <td>b'\\nS2  00.115 D  004 U -00.008 V -00.114 W -0...</td>\n",
       "      <td>130820</td>\n",
       "      <td>2020.0</td>\n",
       "      <td>8.0</td>\n",
       "      <td>13.0</td>\n",
       "      <td>...</td>\n",
       "      <td>0</td>\n",
       "      <td>0</td>\n",
       "      <td>0</td>\n",
       "      <td>0</td>\n",
       "      <td>0</td>\n",
       "      <td>0</td>\n",
       "      <td>0</td>\n",
       "      <td>0</td>\n",
       "      <td>0</td>\n",
       "      <td>0</td>\n",
       "    </tr>\n",
       "    <tr>\n",
       "      <th>559347</th>\n",
       "      <td>55933686</td>\n",
       "      <td>39.512928</td>\n",
       "      <td>-119.840248</td>\n",
       "      <td>85559</td>\n",
       "      <td>130820</td>\n",
       "      <td>b'\\nS2  00.115 D  322 U  00.070 V -00.091 W  0...</td>\n",
       "      <td>130820</td>\n",
       "      <td>2020.0</td>\n",
       "      <td>8.0</td>\n",
       "      <td>13.0</td>\n",
       "      <td>...</td>\n",
       "      <td>0</td>\n",
       "      <td>0</td>\n",
       "      <td>0</td>\n",
       "      <td>0</td>\n",
       "      <td>0</td>\n",
       "      <td>0</td>\n",
       "      <td>0</td>\n",
       "      <td>0</td>\n",
       "      <td>0</td>\n",
       "      <td>0</td>\n",
       "    </tr>\n",
       "    <tr>\n",
       "      <th>559348</th>\n",
       "      <td>55933786</td>\n",
       "      <td>39.512928</td>\n",
       "      <td>-119.840248</td>\n",
       "      <td>85559</td>\n",
       "      <td>130820</td>\n",
       "      <td>b'\\nS2  00.051 D  229 U  00.038 V  00.034 W -0...</td>\n",
       "      <td>130820</td>\n",
       "      <td>2020.0</td>\n",
       "      <td>8.0</td>\n",
       "      <td>13.0</td>\n",
       "      <td>...</td>\n",
       "      <td>0</td>\n",
       "      <td>0</td>\n",
       "      <td>0</td>\n",
       "      <td>0</td>\n",
       "      <td>0</td>\n",
       "      <td>0</td>\n",
       "      <td>0</td>\n",
       "      <td>0</td>\n",
       "      <td>0</td>\n",
       "      <td>0</td>\n",
       "    </tr>\n",
       "    <tr>\n",
       "      <th>559349</th>\n",
       "      <td>55933886</td>\n",
       "      <td>39.512928</td>\n",
       "      <td>-119.840248</td>\n",
       "      <td>85559</td>\n",
       "      <td>130820</td>\n",
       "      <td>b'\\nS2  00.045 D  344 U  00.012 V -00.044 W -0...</td>\n",
       "      <td>130820</td>\n",
       "      <td>2020.0</td>\n",
       "      <td>8.0</td>\n",
       "      <td>13.0</td>\n",
       "      <td>...</td>\n",
       "      <td>0</td>\n",
       "      <td>0</td>\n",
       "      <td>0</td>\n",
       "      <td>0</td>\n",
       "      <td>0</td>\n",
       "      <td>0</td>\n",
       "      <td>0</td>\n",
       "      <td>0</td>\n",
       "      <td>0</td>\n",
       "      <td>0</td>\n",
       "    </tr>\n",
       "  </tbody>\n",
       "</table>\n",
       "<p>559342 rows × 37 columns</p>\n",
       "</div>"
      ],
      "text/plain": [
       "          millis        lat         lon  gps_time  gps_date  \\\n",
       "4           1043  39.513016 -119.840286    170028    120820   \n",
       "5           1143  39.513016 -119.840286    170028    120820   \n",
       "6           1243  39.513016 -119.840286    170028    120820   \n",
       "7           1343  39.513016 -119.840286    170028    120820   \n",
       "8           1443  39.513016 -119.840286    170028    120820   \n",
       "...          ...        ...         ...       ...       ...   \n",
       "559345  55933486  39.512928 -119.840248     85559    130820   \n",
       "559346  55933586  39.512928 -119.840248     85559    130820   \n",
       "559347  55933686  39.512928 -119.840248     85559    130820   \n",
       "559348  55933786  39.512928 -119.840248     85559    130820   \n",
       "559349  55933886  39.512928 -119.840248     85559    130820   \n",
       "\n",
       "                                                     wind gps_date_str  \\\n",
       "4       b'\\nS2  00.026 D  231 U  00.020 V  00.016 W -0...       120820   \n",
       "5       b'\\nS2  00.076 D  250 U  00.071 V  00.026 W -0...       120820   \n",
       "6       b'\\nS2  00.092 D  250 U  00.087 V  00.032 W -0...       120820   \n",
       "7       b'\\nS2  00.093 D  302 U  00.079 V -00.049 W -0...       120820   \n",
       "8       b'\\nS2  00.016 D  283 U  00.016 V -00.004 W -0...       120820   \n",
       "...                                                   ...          ...   \n",
       "559345  b'\\nS2  00.122 D  302 U  00.104 V -00.065 W -0...       130820   \n",
       "559346  b'\\nS2  00.115 D  004 U -00.008 V -00.114 W -0...       130820   \n",
       "559347  b'\\nS2  00.115 D  322 U  00.070 V -00.091 W  0...       130820   \n",
       "559348  b'\\nS2  00.051 D  229 U  00.038 V  00.034 W -0...       130820   \n",
       "559349  b'\\nS2  00.045 D  344 U  00.012 V -00.044 W -0...       130820   \n",
       "\n",
       "          year  month   day  ...  D  U  V  W  T  RHSH  AX  AY  AZ  MD  \n",
       "4       2020.0    8.0  12.0  ...  0  0  0  0  0     0   0   0   0   0  \n",
       "5       2020.0    8.0  12.0  ...  0  0  0  0  0     0   0   0   0   0  \n",
       "6       2020.0    8.0  12.0  ...  0  0  0  0  0     0   0   0   0   0  \n",
       "7       2020.0    8.0  12.0  ...  0  0  0  0  0     0   0   0   0   0  \n",
       "8       2020.0    8.0  12.0  ...  0  0  0  0  0     0   0   0   0   0  \n",
       "...        ...    ...   ...  ... .. .. .. .. ..   ...  ..  ..  ..  ..  \n",
       "559345  2020.0    8.0  13.0  ...  0  0  0  0  0     0   0   0   0   0  \n",
       "559346  2020.0    8.0  13.0  ...  0  0  0  0  0     0   0   0   0   0  \n",
       "559347  2020.0    8.0  13.0  ...  0  0  0  0  0     0   0   0   0   0  \n",
       "559348  2020.0    8.0  13.0  ...  0  0  0  0  0     0   0   0   0   0  \n",
       "559349  2020.0    8.0  13.0  ...  0  0  0  0  0     0   0   0   0   0  \n",
       "\n",
       "[559342 rows x 37 columns]"
      ]
     },
     "execution_count": 869,
     "metadata": {},
     "output_type": "execute_result"
    }
   ],
   "source": [
    "df"
   ]
  },
  {
   "cell_type": "code",
   "execution_count": 910,
   "metadata": {},
   "outputs": [
    {
     "name": "stderr",
     "output_type": "stream",
     "text": [
      "/home/caveman/TEST38/lib/python3.8/site-packages/pandas/core/indexing.py:671: SettingWithCopyWarning: \n",
      "A value is trying to be set on a copy of a slice from a DataFrame\n",
      "\n",
      "See the caveats in the documentation: https://pandas.pydata.org/pandas-docs/stable/user_guide/indexing.html#returning-a-view-versus-a-copy\n",
      "  self._setitem_with_indexer(indexer, value)\n"
     ]
    },
    {
     "name": "stdout",
     "output_type": "stream",
     "text": [
      "error:  220\n",
      "error:  440\n",
      "error:  660\n",
      "error:  880\n",
      "error:  1100\n",
      "error:  1320\n",
      "error:  1540\n",
      "error:  1760\n",
      "error:  1980\n",
      "error:  2200\n",
      "error:  2420\n",
      "error:  2640\n",
      "error:  2860\n",
      "error:  3080\n",
      "error:  3300\n",
      "error:  3520\n",
      "error:  3740\n",
      "error:  3960\n",
      "error:  4180\n",
      "error:  4400\n"
     ]
    },
    {
     "ename": "KeyboardInterrupt",
     "evalue": "",
     "output_type": "error",
     "traceback": [
      "\u001b[0;31m---------------------------------------------------------------------------\u001b[0m",
      "\u001b[0;31mKeyboardInterrupt\u001b[0m                         Traceback (most recent call last)",
      "\u001b[0;32m<ipython-input-910-971111814a9a>\u001b[0m in \u001b[0;36m<module>\u001b[0;34m\u001b[0m\n\u001b[1;32m      6\u001b[0m \u001b[0;34m\u001b[0m\u001b[0m\n\u001b[1;32m      7\u001b[0m     \u001b[0;32mfor\u001b[0m \u001b[0mkey\u001b[0m\u001b[0;34m,\u001b[0m \u001b[0mval\u001b[0m \u001b[0;32min\u001b[0m \u001b[0md\u001b[0m\u001b[0;34m.\u001b[0m\u001b[0mitems\u001b[0m\u001b[0;34m(\u001b[0m\u001b[0;34m)\u001b[0m\u001b[0;34m:\u001b[0m\u001b[0;34m\u001b[0m\u001b[0;34m\u001b[0m\u001b[0m\n\u001b[0;32m----> 8\u001b[0;31m         \u001b[0mdf\u001b[0m\u001b[0;34m[\u001b[0m\u001b[0mkey\u001b[0m\u001b[0;34m]\u001b[0m\u001b[0;34m.\u001b[0m\u001b[0mloc\u001b[0m\u001b[0;34m[\u001b[0m\u001b[0mi\u001b[0m\u001b[0;34m]\u001b[0m \u001b[0;34m=\u001b[0m \u001b[0mval\u001b[0m\u001b[0;34m\u001b[0m\u001b[0;34m\u001b[0m\u001b[0m\n\u001b[0m",
      "\u001b[0;32m~/TEST38/lib/python3.8/site-packages/pandas/core/indexing.py\u001b[0m in \u001b[0;36m__setitem__\u001b[0;34m(self, key, value)\u001b[0m\n\u001b[1;32m    669\u001b[0m             \u001b[0mkey\u001b[0m \u001b[0;34m=\u001b[0m \u001b[0mcom\u001b[0m\u001b[0;34m.\u001b[0m\u001b[0mapply_if_callable\u001b[0m\u001b[0;34m(\u001b[0m\u001b[0mkey\u001b[0m\u001b[0;34m,\u001b[0m \u001b[0mself\u001b[0m\u001b[0;34m.\u001b[0m\u001b[0mobj\u001b[0m\u001b[0;34m)\u001b[0m\u001b[0;34m\u001b[0m\u001b[0;34m\u001b[0m\u001b[0m\n\u001b[1;32m    670\u001b[0m         \u001b[0mindexer\u001b[0m \u001b[0;34m=\u001b[0m \u001b[0mself\u001b[0m\u001b[0;34m.\u001b[0m\u001b[0m_get_setitem_indexer\u001b[0m\u001b[0;34m(\u001b[0m\u001b[0mkey\u001b[0m\u001b[0;34m)\u001b[0m\u001b[0;34m\u001b[0m\u001b[0;34m\u001b[0m\u001b[0m\n\u001b[0;32m--> 671\u001b[0;31m         \u001b[0mself\u001b[0m\u001b[0;34m.\u001b[0m\u001b[0m_setitem_with_indexer\u001b[0m\u001b[0;34m(\u001b[0m\u001b[0mindexer\u001b[0m\u001b[0;34m,\u001b[0m \u001b[0mvalue\u001b[0m\u001b[0;34m)\u001b[0m\u001b[0;34m\u001b[0m\u001b[0;34m\u001b[0m\u001b[0m\n\u001b[0m\u001b[1;32m    672\u001b[0m \u001b[0;34m\u001b[0m\u001b[0m\n\u001b[1;32m    673\u001b[0m     \u001b[0;32mdef\u001b[0m \u001b[0m_validate_key\u001b[0m\u001b[0;34m(\u001b[0m\u001b[0mself\u001b[0m\u001b[0;34m,\u001b[0m \u001b[0mkey\u001b[0m\u001b[0;34m,\u001b[0m \u001b[0maxis\u001b[0m\u001b[0;34m:\u001b[0m \u001b[0mint\u001b[0m\u001b[0;34m)\u001b[0m\u001b[0;34m:\u001b[0m\u001b[0;34m\u001b[0m\u001b[0;34m\u001b[0m\u001b[0m\n",
      "\u001b[0;32m~/TEST38/lib/python3.8/site-packages/pandas/core/indexing.py\u001b[0m in \u001b[0;36m_setitem_with_indexer\u001b[0;34m(self, indexer, value)\u001b[0m\n\u001b[1;32m   1064\u001b[0m             \u001b[0mself\u001b[0m\u001b[0;34m.\u001b[0m\u001b[0mobj\u001b[0m\u001b[0;34m.\u001b[0m\u001b[0m_consolidate_inplace\u001b[0m\u001b[0;34m(\u001b[0m\u001b[0;34m)\u001b[0m\u001b[0;34m\u001b[0m\u001b[0;34m\u001b[0m\u001b[0m\n\u001b[1;32m   1065\u001b[0m             \u001b[0mself\u001b[0m\u001b[0;34m.\u001b[0m\u001b[0mobj\u001b[0m\u001b[0;34m.\u001b[0m\u001b[0m_data\u001b[0m \u001b[0;34m=\u001b[0m \u001b[0mself\u001b[0m\u001b[0;34m.\u001b[0m\u001b[0mobj\u001b[0m\u001b[0;34m.\u001b[0m\u001b[0m_data\u001b[0m\u001b[0;34m.\u001b[0m\u001b[0msetitem\u001b[0m\u001b[0;34m(\u001b[0m\u001b[0mindexer\u001b[0m\u001b[0;34m=\u001b[0m\u001b[0mindexer\u001b[0m\u001b[0;34m,\u001b[0m \u001b[0mvalue\u001b[0m\u001b[0;34m=\u001b[0m\u001b[0mvalue\u001b[0m\u001b[0;34m)\u001b[0m\u001b[0;34m\u001b[0m\u001b[0;34m\u001b[0m\u001b[0m\n\u001b[0;32m-> 1066\u001b[0;31m             \u001b[0mself\u001b[0m\u001b[0;34m.\u001b[0m\u001b[0mobj\u001b[0m\u001b[0;34m.\u001b[0m\u001b[0m_maybe_update_cacher\u001b[0m\u001b[0;34m(\u001b[0m\u001b[0mclear\u001b[0m\u001b[0;34m=\u001b[0m\u001b[0;32mTrue\u001b[0m\u001b[0;34m)\u001b[0m\u001b[0;34m\u001b[0m\u001b[0;34m\u001b[0m\u001b[0m\n\u001b[0m\u001b[1;32m   1067\u001b[0m \u001b[0;34m\u001b[0m\u001b[0m\n\u001b[1;32m   1068\u001b[0m     \u001b[0;32mdef\u001b[0m \u001b[0m_setitem_with_indexer_missing\u001b[0m\u001b[0;34m(\u001b[0m\u001b[0mself\u001b[0m\u001b[0;34m,\u001b[0m \u001b[0mindexer\u001b[0m\u001b[0;34m,\u001b[0m \u001b[0mvalue\u001b[0m\u001b[0;34m)\u001b[0m\u001b[0;34m:\u001b[0m\u001b[0;34m\u001b[0m\u001b[0;34m\u001b[0m\u001b[0m\n",
      "\u001b[0;32m~/TEST38/lib/python3.8/site-packages/pandas/core/generic.py\u001b[0m in \u001b[0;36m_maybe_update_cacher\u001b[0;34m(self, clear, verify_is_copy)\u001b[0m\n\u001b[1;32m   3280\u001b[0m                 \u001b[0;31m#  case where it will raise.  (Uh, not clear why)\u001b[0m\u001b[0;34m\u001b[0m\u001b[0;34m\u001b[0m\u001b[0;34m\u001b[0m\u001b[0m\n\u001b[1;32m   3281\u001b[0m                 \u001b[0;32mtry\u001b[0m\u001b[0;34m:\u001b[0m\u001b[0;34m\u001b[0m\u001b[0;34m\u001b[0m\u001b[0m\n\u001b[0;32m-> 3282\u001b[0;31m                     \u001b[0mref\u001b[0m\u001b[0;34m.\u001b[0m\u001b[0m_maybe_cache_changed\u001b[0m\u001b[0;34m(\u001b[0m\u001b[0mcacher\u001b[0m\u001b[0;34m[\u001b[0m\u001b[0;36m0\u001b[0m\u001b[0;34m]\u001b[0m\u001b[0;34m,\u001b[0m \u001b[0mself\u001b[0m\u001b[0;34m)\u001b[0m\u001b[0;34m\u001b[0m\u001b[0;34m\u001b[0m\u001b[0m\n\u001b[0m\u001b[1;32m   3283\u001b[0m                 \u001b[0;32mexcept\u001b[0m \u001b[0mAssertionError\u001b[0m\u001b[0;34m:\u001b[0m\u001b[0;34m\u001b[0m\u001b[0;34m\u001b[0m\u001b[0m\n\u001b[1;32m   3284\u001b[0m                     \u001b[0;31m# ref._data.setitem can raise\u001b[0m\u001b[0;34m\u001b[0m\u001b[0;34m\u001b[0m\u001b[0;34m\u001b[0m\u001b[0m\n",
      "\u001b[0;32m~/TEST38/lib/python3.8/site-packages/pandas/core/generic.py\u001b[0m in \u001b[0;36m_maybe_cache_changed\u001b[0;34m(self, item, value)\u001b[0m\n\u001b[1;32m   3239\u001b[0m         \"\"\"The object has called back to us saying maybe it has changed.\n\u001b[1;32m   3240\u001b[0m         \"\"\"\n\u001b[0;32m-> 3241\u001b[0;31m         \u001b[0mself\u001b[0m\u001b[0;34m.\u001b[0m\u001b[0m_data\u001b[0m\u001b[0;34m.\u001b[0m\u001b[0mset\u001b[0m\u001b[0;34m(\u001b[0m\u001b[0mitem\u001b[0m\u001b[0;34m,\u001b[0m \u001b[0mvalue\u001b[0m\u001b[0;34m)\u001b[0m\u001b[0;34m\u001b[0m\u001b[0;34m\u001b[0m\u001b[0m\n\u001b[0m\u001b[1;32m   3242\u001b[0m \u001b[0;34m\u001b[0m\u001b[0m\n\u001b[1;32m   3243\u001b[0m     \u001b[0;34m@\u001b[0m\u001b[0mproperty\u001b[0m\u001b[0;34m\u001b[0m\u001b[0;34m\u001b[0m\u001b[0m\n",
      "\u001b[0;32m~/TEST38/lib/python3.8/site-packages/pandas/core/internals/managers.py\u001b[0m in \u001b[0;36mset\u001b[0;34m(self, item, value)\u001b[0m\n\u001b[1;32m   1088\u001b[0m             \u001b[0mblk_locs\u001b[0m \u001b[0;34m=\u001b[0m \u001b[0mblklocs\u001b[0m\u001b[0;34m[\u001b[0m\u001b[0mval_locs\u001b[0m\u001b[0;34m.\u001b[0m\u001b[0mindexer\u001b[0m\u001b[0;34m]\u001b[0m\u001b[0;34m\u001b[0m\u001b[0;34m\u001b[0m\u001b[0m\n\u001b[1;32m   1089\u001b[0m             \u001b[0;32mif\u001b[0m \u001b[0mblk\u001b[0m\u001b[0;34m.\u001b[0m\u001b[0mshould_store\u001b[0m\u001b[0;34m(\u001b[0m\u001b[0mvalue\u001b[0m\u001b[0;34m)\u001b[0m\u001b[0;34m:\u001b[0m\u001b[0;34m\u001b[0m\u001b[0;34m\u001b[0m\u001b[0m\n\u001b[0;32m-> 1090\u001b[0;31m                 \u001b[0mblk\u001b[0m\u001b[0;34m.\u001b[0m\u001b[0mset\u001b[0m\u001b[0;34m(\u001b[0m\u001b[0mblk_locs\u001b[0m\u001b[0;34m,\u001b[0m \u001b[0mvalue_getitem\u001b[0m\u001b[0;34m(\u001b[0m\u001b[0mval_locs\u001b[0m\u001b[0;34m)\u001b[0m\u001b[0;34m)\u001b[0m\u001b[0;34m\u001b[0m\u001b[0;34m\u001b[0m\u001b[0m\n\u001b[0m\u001b[1;32m   1091\u001b[0m             \u001b[0;32melse\u001b[0m\u001b[0;34m:\u001b[0m\u001b[0;34m\u001b[0m\u001b[0;34m\u001b[0m\u001b[0m\n\u001b[1;32m   1092\u001b[0m                 \u001b[0munfit_mgr_locs\u001b[0m\u001b[0;34m.\u001b[0m\u001b[0mappend\u001b[0m\u001b[0;34m(\u001b[0m\u001b[0mblk\u001b[0m\u001b[0;34m.\u001b[0m\u001b[0mmgr_locs\u001b[0m\u001b[0;34m.\u001b[0m\u001b[0mas_array\u001b[0m\u001b[0;34m[\u001b[0m\u001b[0mblk_locs\u001b[0m\u001b[0;34m]\u001b[0m\u001b[0;34m)\u001b[0m\u001b[0;34m\u001b[0m\u001b[0;34m\u001b[0m\u001b[0m\n",
      "\u001b[0;32m~/TEST38/lib/python3.8/site-packages/pandas/core/internals/blocks.py\u001b[0m in \u001b[0;36mset\u001b[0;34m(self, locs, values)\u001b[0m\n\u001b[1;32m    374\u001b[0m         \u001b[0;32mNone\u001b[0m\u001b[0;34m\u001b[0m\u001b[0;34m\u001b[0m\u001b[0m\n\u001b[1;32m    375\u001b[0m         \"\"\"\n\u001b[0;32m--> 376\u001b[0;31m         \u001b[0mself\u001b[0m\u001b[0;34m.\u001b[0m\u001b[0mvalues\u001b[0m\u001b[0;34m[\u001b[0m\u001b[0mlocs\u001b[0m\u001b[0;34m]\u001b[0m \u001b[0;34m=\u001b[0m \u001b[0mvalues\u001b[0m\u001b[0;34m\u001b[0m\u001b[0;34m\u001b[0m\u001b[0m\n\u001b[0m\u001b[1;32m    377\u001b[0m \u001b[0;34m\u001b[0m\u001b[0m\n\u001b[1;32m    378\u001b[0m     \u001b[0;32mdef\u001b[0m \u001b[0mdelete\u001b[0m\u001b[0;34m(\u001b[0m\u001b[0mself\u001b[0m\u001b[0;34m,\u001b[0m \u001b[0mloc\u001b[0m\u001b[0;34m)\u001b[0m\u001b[0;34m:\u001b[0m\u001b[0;34m\u001b[0m\u001b[0;34m\u001b[0m\u001b[0m\n",
      "\u001b[0;31mKeyboardInterrupt\u001b[0m: "
     ]
    }
   ],
   "source": [
    "for i in df.index:\n",
    "    d = parse_wind_string(df.wind.loc[i])\n",
    "    if d is None:\n",
    "        print('error: ', i)\n",
    "        continue\n",
    "        \n",
    "    for key, val in d.items():\n",
    "        df[key].loc[i] = val"
   ]
  },
  {
   "cell_type": "markdown",
   "metadata": {},
   "source": [
    "## Too slow\n",
    "## This is why we use pandas.. although the syntax is obnoxious things can be done fast\n",
    "\n",
    "google: pandas apply function to every row\n",
    "\n",
    "first result: http://jonathansoma.com/lede/foundations/classes/pandas%20columns%20and%20functions/apply-a-function-to-every-row-in-a-pandas-dataframe/"
   ]
  },
  {
   "cell_type": "code",
   "execution_count": 918,
   "metadata": {},
   "outputs": [
    {
     "data": {
      "text/plain": [
       "b'\\nS2  00.050 D  283 U  00.048 V -00.011 W -00.058 T  21.73 RHSH  00.31 AX  -1792 AY  -2560 AZ -16128 MD  175 '"
      ]
     },
     "execution_count": 918,
     "metadata": {},
     "output_type": "execute_result"
    }
   ],
   "source": [
    "df.loc[219].wind"
   ]
  },
  {
   "cell_type": "code",
   "execution_count": 922,
   "metadata": {},
   "outputs": [
    {
     "data": {
      "text/plain": [
       "[b'\\nS2  00.068 D  216 U  00.040 V  00.055 W -00.027 T  21.71 RHSH  00.31 AX  -1792 AY  -2304 AZ -16384 MD  175 ',\n",
       " b' T  21.63 ']"
      ]
     },
     "execution_count": 922,
     "metadata": {},
     "output_type": "execute_result"
    }
   ],
   "source": [
    "df.loc[440].wind.split(b'\\x004')[0]"
   ]
  },
  {
   "cell_type": "code",
   "execution_count": 917,
   "metadata": {},
   "outputs": [
    {
     "data": {
      "text/plain": [
       "b'\\nS2  00.065 D  019 U -00.021 V -00.062 W -00.041 T  21.74 RHSH  00.31 AX  -1792 AY  -2304 AZ -16128 MD  174 '"
      ]
     },
     "execution_count": 917,
     "metadata": {},
     "output_type": "execute_result"
    }
   ],
   "source": [
    "df.loc[221].wind"
   ]
  },
  {
   "cell_type": "code",
   "execution_count": 923,
   "metadata": {},
   "outputs": [
    {
     "data": {
      "text/plain": [
       "b'\\nS2  00.050 D  283 U  00.048 V -00.011 W -00.058 T  21.73 RHSH  00.31 AX  -1792 AY  -2560 AZ -16128 MD  175 '"
      ]
     },
     "execution_count": 923,
     "metadata": {},
     "output_type": "execute_result"
    }
   ],
   "source": [
    "df.loc[219].wind.split(b'\\x004')[0]"
   ]
  },
  {
   "cell_type": "code",
   "execution_count": null,
   "metadata": {},
   "outputs": [],
   "source": []
  },
  {
   "cell_type": "code",
   "execution_count": 911,
   "metadata": {},
   "outputs": [],
   "source": [
    "def parse_wind_string(row, key):\n",
    "    s = row['wind']\n",
    "    s = s.lstrip().rstrip()\n",
    "    s = s.split(b'\\x004')[0]\n",
    "    s = s.rstrip()\n",
    "    \n",
    "    ls = []\n",
    "    for ss in s.split(b' '):\n",
    "        if len(ss) > 0:\n",
    "            ls.append(ss)\n",
    "            \n",
    "    try:\n",
    "        labels = ls[0::2]\n",
    "        labels = [l.decode('utf-8') for l in labels]\n",
    "\n",
    "        vals = ls[1::2]\n",
    "        vals = np.array(vals).astype(float)\n",
    "        \n",
    "        d = {labels[i]: vals[i] for i in range(len(vals)) }\n",
    "    \n",
    "        return d[key]\n",
    "    except:\n",
    "        return np.nan"
   ]
  },
  {
   "cell_type": "code",
   "execution_count": 912,
   "metadata": {},
   "outputs": [],
   "source": [
    "df['S2'] = df.apply(parse_wind_string, axis=1, args=('S2',))"
   ]
  },
  {
   "cell_type": "code",
   "execution_count": 913,
   "metadata": {
    "scrolled": true
   },
   "outputs": [
    {
     "data": {
      "text/plain": [
       "[<matplotlib.lines.Line2D at 0x7f3b5f9eb460>]"
      ]
     },
     "execution_count": 913,
     "metadata": {},
     "output_type": "execute_result"
    },
    {
     "data": {
      "image/png": "[encoded data removed]",
      "text/plain": [
       "<Figure size 432x288 with 1 Axes>"
      ]
     },
     "metadata": {
      "needs_background": "light"
     },
     "output_type": "display_data"
    }
   ],
   "source": [
    "plt.plot(df.S2)"
   ]
  },
  {
   "cell_type": "markdown",
   "metadata": {},
   "source": [
    "Not fast.. but better.. still need to apply to every key"
   ]
  },
  {
   "cell_type": "code",
   "execution_count": null,
   "metadata": {},
   "outputs": [],
   "source": []
  }
 ],
 "metadata": {
  "kernelspec": {
   "display_name": "TEST38",
   "language": "python",
   "name": "test38"
  },
  "language_info": {
   "codemirror_mode": {
    "name": "ipython",
    "version": 3
   },
   "file_extension": ".py",
   "mimetype": "text/x-python",
   "name": "python",
   "nbconvert_exporter": "python",
   "pygments_lexer": "ipython3",
   "version": "3.8.3"
  }
 },
 "nbformat": 4,
 "nbformat_minor": 2
}
